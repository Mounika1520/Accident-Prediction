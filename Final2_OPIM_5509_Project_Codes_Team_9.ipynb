{
  "nbformat": 4,
  "nbformat_minor": 0,
  "metadata": {
    "colab": {
      "name": "Final2-OPIM 5509 Project Codes_Team 9.ipynb",
      "provenance": [],
      "collapsed_sections": [],
      "toc_visible": true,
      "machine_shape": "hm"
    },
    "kernelspec": {
      "name": "python3",
      "display_name": "Python 3"
    },
    "accelerator": "GPU"
  },
  "cells": [
    {
      "cell_type": "code",
      "metadata": {
        "id": "JiuCQ7ry5iMW",
        "colab_type": "code",
        "outputId": "4d2a93c4-f069-4e9c-b9f7-07346d2d39cb",
        "colab": {
          "base_uri": "https://localhost:8080/",
          "height": 121
        }
      },
      "source": [
        "from google.colab import drive\n",
        "drive.mount('/content/drive')"
      ],
      "execution_count": 0,
      "outputs": [
        {
          "output_type": "stream",
          "text": [
            "Go to this URL in a browser: https://accounts.google.com/o/oauth2/auth?client_id=947318989803-6bn6qk8qdgf4n4g3pfee6491hc0brc4i.apps.googleusercontent.com&redirect_uri=urn%3aietf%3awg%3aoauth%3a2.0%3aoob&response_type=code&scope=email%20https%3a%2f%2fwww.googleapis.com%2fauth%2fdocs.test%20https%3a%2f%2fwww.googleapis.com%2fauth%2fdrive%20https%3a%2f%2fwww.googleapis.com%2fauth%2fdrive.photos.readonly%20https%3a%2f%2fwww.googleapis.com%2fauth%2fpeopleapi.readonly\n",
            "\n",
            "Enter your authorization code:\n",
            "··········\n",
            "Mounted at /content/drive\n"
          ],
          "name": "stdout"
        }
      ]
    },
    {
      "cell_type": "markdown",
      "metadata": {
        "id": "rLoPSSTAJcpQ",
        "colab_type": "text"
      },
      "source": [
        "### Importing all the necessary libraries"
      ]
    },
    {
      "cell_type": "code",
      "metadata": {
        "id": "l1Go7uo-6D-B",
        "colab_type": "code",
        "colab": {}
      },
      "source": [
        "# import packages\n",
        "# import general necessary packages\n",
        "import pandas as pd\n",
        "import tensorflow as tf\n",
        "import numpy as np\n",
        "import matplotlib.pyplot as plt\n",
        "import os, cv2\n",
        "# import general necessary packages (CNN_regression)\n",
        "from keras.models import Sequential\n",
        "from keras.layers.convolutional import Conv2D\n",
        "from keras.layers.convolutional import MaxPooling2D\n",
        "from keras.layers.core import Activation\n",
        "from keras.layers.core import Dropout\n",
        "from keras.layers.core import Dense\n",
        "from keras.layers import Flatten\n",
        "from keras.layers import Input\n",
        "from keras.models import Model\n",
        "from keras.optimizers import Adam, RMSprop\n",
        "from numpy.random import seed\n",
        "from numpy import savez_compressed\n",
        "from keras.callbacks import EarlyStopping\n",
        "from sklearn.preprocessing import MinMaxScaler\n",
        "from sklearn.utils import shuffle\n",
        "from sklearn.model_selection import train_test_split\n",
        "from sklearn.metrics import mean_absolute_error\n",
        "from sklearn.linear_model import LinearRegression\n",
        "from keras.models import Sequential\n",
        "from keras.layers import Dense, Dropout\n",
        "from keras.wrappers.scikit_learn import KerasRegressor\n",
        "from keras.wrappers.scikit_learn import KerasClassifier\n",
        "from sklearn.model_selection import GridSearchCV\n",
        "from sklearn.model_selection import KFold\n",
        "import seaborn as sns # for plotting\n",
        "from sklearn.preprocessing import LabelEncoder\n",
        "from sklearn.preprocessing import StandardScaler"
      ],
      "execution_count": 0,
      "outputs": []
    },
    {
      "cell_type": "code",
      "metadata": {
        "id": "_u41CUdQA1AW",
        "colab_type": "code",
        "colab": {}
      },
      "source": [
        "pip install geopandas"
      ],
      "execution_count": 0,
      "outputs": []
    },
    {
      "cell_type": "code",
      "metadata": {
        "id": "tDKR_MpCApuT",
        "colab_type": "code",
        "colab": {}
      },
      "source": [
        "from shapely.geometry import Point, Polygon"
      ],
      "execution_count": 0,
      "outputs": []
    },
    {
      "cell_type": "markdown",
      "metadata": {
        "id": "3afauE3f2ibN",
        "colab_type": "text"
      },
      "source": [
        "## Data Description\n",
        "\n",
        "\n",
        "1. Accident_Index\n",
        "2. Location_Easting_OSGR\n",
        "3. Location_Northing_OSGR - Unique ID\n",
        "4. Longitude - Local British coordinates x-value\n",
        "5. Latitude - Local British coordinates y-value\n",
        "6. Police_Force\n",
        "7. Accident_Severity\n",
        "8. Number_of_Vehicles\n",
        "9. Number_of_Casualties1 = Fatal, 2 = Serious, 3 = Slight\n",
        "10. Date\n",
        "11. Day_of_Week\n",
        "12. TimeIn dd/mm/yyyy format.\n",
        "13. Local_Authority_(District) - Numeric: 1 for Sunday, 2 for Monday, and so on.\n",
        "14. Local_Authority_(Highway) - Time the accident was reported, in UTC+0.\n",
        "15. 1st_Road_Class\n",
        "16. 1st_Road_Number\n",
        "17. Road_Type - This field is only used for junctions.\n",
        "18. Speed_limit - This field is only used for junctions.\n",
        "19. Junction_Detail - Some options are Roundabout, One Way, Dual 20. Carriageway, Single Carriageway, Slip Road, Unknown.\n",
        "20. Junction_Control\n",
        "21. 2nd_Road_Class - Some options are Crossroads, Roundabouts, Private Roads, Not a Junction.\n",
        "22. 2nd_Road_Number - A person, a type of sign, automated, etc.\n",
        "Pedestrian_Crossing-Human_ControlThis field is only used for junctions.\n",
        "23. Pedestrian_Crossing-Physical_Facilities - This field is only used for junctions.\n",
        "24. Light_Conditions - Was there a human controller and what type?\n",
        "Weather_ConditionsWas it a zebra crossing, or bridge, or another type?\n",
        "25. Road_Surface_Conditions - Day, night, street lights or not.\n",
        "Special_Conditions_at_SiteWind, rain, snow, fog.\n",
        "26. Carriageway_Hazards - Wet, snow, ice, flood.\n",
        "27. Urban_or_Rural_AreaWas anything broken or defective, e.g. an obscured sign?\n",
        "28. Did_Police_Officer_Attend_Scene_of_Accident - Was something in the way, e.g. a pedestrian, another accident, something in the road?\n",
        "29. LSOA_of_Accident_Location\n",
        "30. Year"
      ]
    },
    {
      "cell_type": "markdown",
      "metadata": {
        "id": "J5Gnc_SlJ35y",
        "colab_type": "text"
      },
      "source": [
        "### Loading the Dataset"
      ]
    },
    {
      "cell_type": "code",
      "metadata": {
        "id": "56w4L9Nt5u0e",
        "colab_type": "code",
        "outputId": "8639f1f4-b5c6-47be-cd65-5c2cab64e2b7",
        "colab": {
          "base_uri": "https://localhost:8080/",
          "height": 70
        }
      },
      "source": [
        "# Data is present in three different csv's each representing different year durations\n",
        "\n",
        "data1=pd.read_csv(\"/content/drive/My Drive/Deep Learning/UK_accidents/accidents_2005_to_2007.csv\")\n",
        "data2=pd.read_csv(\"/content/drive/My Drive/Deep Learning/UK_accidents/accidents_2009_to_2011.csv\")\n",
        "data3=pd.read_csv(\"/content/drive/My Drive/Deep Learning/UK_accidents/accidents_2012_to_2014.csv\")"
      ],
      "execution_count": 0,
      "outputs": [
        {
          "output_type": "stream",
          "text": [
            "/usr/local/lib/python3.6/dist-packages/IPython/core/interactiveshell.py:2718: DtypeWarning: Columns (31) have mixed types.Specify dtype option on import or set low_memory=False.\n",
            "  interactivity=interactivity, compiler=compiler, result=result)\n"
          ],
          "name": "stderr"
        }
      ]
    },
    {
      "cell_type": "markdown",
      "metadata": {
        "id": "XGNSs3FgnHfC",
        "colab_type": "text"
      },
      "source": [
        "Concatenating the Data"
      ]
    },
    {
      "cell_type": "code",
      "metadata": {
        "id": "eKemgVZH6XJ9",
        "colab_type": "code",
        "colab": {}
      },
      "source": [
        "# Concatenating the data\n",
        "data = pd.concat([data1,data2,data3])"
      ],
      "execution_count": 0,
      "outputs": []
    },
    {
      "cell_type": "markdown",
      "metadata": {
        "id": "kfNq93mQnNi-",
        "colab_type": "text"
      },
      "source": [
        "Data Exploration -PreProcessing"
      ]
    },
    {
      "cell_type": "code",
      "metadata": {
        "id": "m41w3gQxldR1",
        "colab_type": "code",
        "colab": {}
      },
      "source": [
        "## Here we are re-coding Accident Severity 1 and 2 as 0 and 3 as 1 it in to a binary classification \n",
        "def make_binary(row):\n",
        "  if str(row['Accident_Severity']) == '1' or str(row['Accident_Severity']) == '2':\n",
        "    value = 0\n",
        "  else:\n",
        "    value = 1\n",
        "  return value"
      ],
      "execution_count": 0,
      "outputs": []
    },
    {
      "cell_type": "code",
      "metadata": {
        "id": "rXAdfjzNliMp",
        "colab_type": "code",
        "colab": {}
      },
      "source": [
        "data['new_acc_sev'] = data.apply(make_binary, axis=1)"
      ],
      "execution_count": 0,
      "outputs": []
    },
    {
      "cell_type": "code",
      "metadata": {
        "id": "E_NcbkgshYgu",
        "colab_type": "code",
        "outputId": "829a2c6a-c8d7-4e4c-b48b-4fdcaece5491",
        "colab": {
          "base_uri": "https://localhost:8080/",
          "height": 350
        }
      },
      "source": [
        "data.head(5)"
      ],
      "execution_count": 0,
      "outputs": [
        {
          "output_type": "execute_result",
          "data": {
            "text/html": [
              "<div>\n",
              "<style scoped>\n",
              "    .dataframe tbody tr th:only-of-type {\n",
              "        vertical-align: middle;\n",
              "    }\n",
              "\n",
              "    .dataframe tbody tr th {\n",
              "        vertical-align: top;\n",
              "    }\n",
              "\n",
              "    .dataframe thead th {\n",
              "        text-align: right;\n",
              "    }\n",
              "</style>\n",
              "<table border=\"1\" class=\"dataframe\">\n",
              "  <thead>\n",
              "    <tr style=\"text-align: right;\">\n",
              "      <th></th>\n",
              "      <th>Accident_Index</th>\n",
              "      <th>Location_Easting_OSGR</th>\n",
              "      <th>Location_Northing_OSGR</th>\n",
              "      <th>Longitude</th>\n",
              "      <th>Latitude</th>\n",
              "      <th>Police_Force</th>\n",
              "      <th>Accident_Severity</th>\n",
              "      <th>Number_of_Vehicles</th>\n",
              "      <th>Number_of_Casualties</th>\n",
              "      <th>Date</th>\n",
              "      <th>Day_of_Week</th>\n",
              "      <th>Time</th>\n",
              "      <th>Local_Authority_(District)</th>\n",
              "      <th>Local_Authority_(Highway)</th>\n",
              "      <th>1st_Road_Class</th>\n",
              "      <th>1st_Road_Number</th>\n",
              "      <th>Road_Type</th>\n",
              "      <th>Speed_limit</th>\n",
              "      <th>Junction_Detail</th>\n",
              "      <th>Junction_Control</th>\n",
              "      <th>2nd_Road_Class</th>\n",
              "      <th>2nd_Road_Number</th>\n",
              "      <th>Pedestrian_Crossing-Human_Control</th>\n",
              "      <th>Pedestrian_Crossing-Physical_Facilities</th>\n",
              "      <th>Light_Conditions</th>\n",
              "      <th>Weather_Conditions</th>\n",
              "      <th>Road_Surface_Conditions</th>\n",
              "      <th>Special_Conditions_at_Site</th>\n",
              "      <th>Carriageway_Hazards</th>\n",
              "      <th>Urban_or_Rural_Area</th>\n",
              "      <th>Did_Police_Officer_Attend_Scene_of_Accident</th>\n",
              "      <th>LSOA_of_Accident_Location</th>\n",
              "      <th>Year</th>\n",
              "      <th>new_acc_sev</th>\n",
              "    </tr>\n",
              "  </thead>\n",
              "  <tbody>\n",
              "    <tr>\n",
              "      <th>0</th>\n",
              "      <td>200501BS00001</td>\n",
              "      <td>525680.0</td>\n",
              "      <td>178240.0</td>\n",
              "      <td>-0.191170</td>\n",
              "      <td>51.489096</td>\n",
              "      <td>1</td>\n",
              "      <td>2</td>\n",
              "      <td>1</td>\n",
              "      <td>1</td>\n",
              "      <td>04/01/2005</td>\n",
              "      <td>3</td>\n",
              "      <td>17:42</td>\n",
              "      <td>12</td>\n",
              "      <td>E09000020</td>\n",
              "      <td>3</td>\n",
              "      <td>3218</td>\n",
              "      <td>Single carriageway</td>\n",
              "      <td>30</td>\n",
              "      <td>NaN</td>\n",
              "      <td>NaN</td>\n",
              "      <td>-1</td>\n",
              "      <td>0</td>\n",
              "      <td>None within 50 metres</td>\n",
              "      <td>Zebra crossing</td>\n",
              "      <td>Daylight: Street light present</td>\n",
              "      <td>Raining without high winds</td>\n",
              "      <td>Wet/Damp</td>\n",
              "      <td>None</td>\n",
              "      <td>None</td>\n",
              "      <td>1</td>\n",
              "      <td>Yes</td>\n",
              "      <td>E01002849</td>\n",
              "      <td>2005</td>\n",
              "      <td>0</td>\n",
              "    </tr>\n",
              "    <tr>\n",
              "      <th>1</th>\n",
              "      <td>200501BS00002</td>\n",
              "      <td>524170.0</td>\n",
              "      <td>181650.0</td>\n",
              "      <td>-0.211708</td>\n",
              "      <td>51.520075</td>\n",
              "      <td>1</td>\n",
              "      <td>3</td>\n",
              "      <td>1</td>\n",
              "      <td>1</td>\n",
              "      <td>05/01/2005</td>\n",
              "      <td>4</td>\n",
              "      <td>17:36</td>\n",
              "      <td>12</td>\n",
              "      <td>E09000020</td>\n",
              "      <td>4</td>\n",
              "      <td>450</td>\n",
              "      <td>Dual carriageway</td>\n",
              "      <td>30</td>\n",
              "      <td>NaN</td>\n",
              "      <td>Automatic traffic signal</td>\n",
              "      <td>5</td>\n",
              "      <td>0</td>\n",
              "      <td>None within 50 metres</td>\n",
              "      <td>Pedestrian phase at traffic signal junction</td>\n",
              "      <td>Darkness: Street lights present and lit</td>\n",
              "      <td>Fine without high winds</td>\n",
              "      <td>Dry</td>\n",
              "      <td>None</td>\n",
              "      <td>None</td>\n",
              "      <td>1</td>\n",
              "      <td>Yes</td>\n",
              "      <td>E01002909</td>\n",
              "      <td>2005</td>\n",
              "      <td>1</td>\n",
              "    </tr>\n",
              "    <tr>\n",
              "      <th>2</th>\n",
              "      <td>200501BS00003</td>\n",
              "      <td>524520.0</td>\n",
              "      <td>182240.0</td>\n",
              "      <td>-0.206458</td>\n",
              "      <td>51.525301</td>\n",
              "      <td>1</td>\n",
              "      <td>3</td>\n",
              "      <td>2</td>\n",
              "      <td>1</td>\n",
              "      <td>06/01/2005</td>\n",
              "      <td>5</td>\n",
              "      <td>00:15</td>\n",
              "      <td>12</td>\n",
              "      <td>E09000020</td>\n",
              "      <td>5</td>\n",
              "      <td>0</td>\n",
              "      <td>Single carriageway</td>\n",
              "      <td>30</td>\n",
              "      <td>NaN</td>\n",
              "      <td>NaN</td>\n",
              "      <td>-1</td>\n",
              "      <td>0</td>\n",
              "      <td>None within 50 metres</td>\n",
              "      <td>No physical crossing within 50 meters</td>\n",
              "      <td>Darkness: Street lights present and lit</td>\n",
              "      <td>Fine without high winds</td>\n",
              "      <td>Dry</td>\n",
              "      <td>None</td>\n",
              "      <td>None</td>\n",
              "      <td>1</td>\n",
              "      <td>Yes</td>\n",
              "      <td>E01002857</td>\n",
              "      <td>2005</td>\n",
              "      <td>1</td>\n",
              "    </tr>\n",
              "    <tr>\n",
              "      <th>3</th>\n",
              "      <td>200501BS00004</td>\n",
              "      <td>526900.0</td>\n",
              "      <td>177530.0</td>\n",
              "      <td>-0.173862</td>\n",
              "      <td>51.482442</td>\n",
              "      <td>1</td>\n",
              "      <td>3</td>\n",
              "      <td>1</td>\n",
              "      <td>1</td>\n",
              "      <td>07/01/2005</td>\n",
              "      <td>6</td>\n",
              "      <td>10:35</td>\n",
              "      <td>12</td>\n",
              "      <td>E09000020</td>\n",
              "      <td>3</td>\n",
              "      <td>3220</td>\n",
              "      <td>Single carriageway</td>\n",
              "      <td>30</td>\n",
              "      <td>NaN</td>\n",
              "      <td>NaN</td>\n",
              "      <td>-1</td>\n",
              "      <td>0</td>\n",
              "      <td>None within 50 metres</td>\n",
              "      <td>No physical crossing within 50 meters</td>\n",
              "      <td>Daylight: Street light present</td>\n",
              "      <td>Fine without high winds</td>\n",
              "      <td>Dry</td>\n",
              "      <td>None</td>\n",
              "      <td>None</td>\n",
              "      <td>1</td>\n",
              "      <td>Yes</td>\n",
              "      <td>E01002840</td>\n",
              "      <td>2005</td>\n",
              "      <td>1</td>\n",
              "    </tr>\n",
              "    <tr>\n",
              "      <th>4</th>\n",
              "      <td>200501BS00005</td>\n",
              "      <td>528060.0</td>\n",
              "      <td>179040.0</td>\n",
              "      <td>-0.156618</td>\n",
              "      <td>51.495752</td>\n",
              "      <td>1</td>\n",
              "      <td>3</td>\n",
              "      <td>1</td>\n",
              "      <td>1</td>\n",
              "      <td>10/01/2005</td>\n",
              "      <td>2</td>\n",
              "      <td>21:13</td>\n",
              "      <td>12</td>\n",
              "      <td>E09000020</td>\n",
              "      <td>6</td>\n",
              "      <td>0</td>\n",
              "      <td>Single carriageway</td>\n",
              "      <td>30</td>\n",
              "      <td>NaN</td>\n",
              "      <td>NaN</td>\n",
              "      <td>-1</td>\n",
              "      <td>0</td>\n",
              "      <td>None within 50 metres</td>\n",
              "      <td>No physical crossing within 50 meters</td>\n",
              "      <td>Darkness: Street lighting unknown</td>\n",
              "      <td>Fine without high winds</td>\n",
              "      <td>Wet/Damp</td>\n",
              "      <td>None</td>\n",
              "      <td>None</td>\n",
              "      <td>1</td>\n",
              "      <td>Yes</td>\n",
              "      <td>E01002863</td>\n",
              "      <td>2005</td>\n",
              "      <td>1</td>\n",
              "    </tr>\n",
              "  </tbody>\n",
              "</table>\n",
              "</div>"
            ],
            "text/plain": [
              "  Accident_Index  Location_Easting_OSGR  ...  Year  new_acc_sev\n",
              "0  200501BS00001               525680.0  ...  2005            0\n",
              "1  200501BS00002               524170.0  ...  2005            1\n",
              "2  200501BS00003               524520.0  ...  2005            1\n",
              "3  200501BS00004               526900.0  ...  2005            1\n",
              "4  200501BS00005               528060.0  ...  2005            1\n",
              "\n",
              "[5 rows x 34 columns]"
            ]
          },
          "metadata": {
            "tags": []
          },
          "execution_count": 12
        }
      ]
    },
    {
      "cell_type": "code",
      "metadata": {
        "id": "d-3P8jVm6Yf9",
        "colab_type": "code",
        "outputId": "313c35e7-e4a2-4a4d-ff65-1c6ee421fb2d",
        "colab": {
          "base_uri": "https://localhost:8080/",
          "height": 700
        }
      },
      "source": [
        "data.info()\n"
      ],
      "execution_count": 0,
      "outputs": [
        {
          "output_type": "stream",
          "text": [
            "<class 'pandas.core.frame.DataFrame'>\n",
            "Int64Index: 1504150 entries, 0 to 464696\n",
            "Data columns (total 34 columns):\n",
            " #   Column                                       Non-Null Count    Dtype  \n",
            "---  ------                                       --------------    -----  \n",
            " 0   Accident_Index                               1504150 non-null  object \n",
            " 1   Location_Easting_OSGR                        1504049 non-null  float64\n",
            " 2   Location_Northing_OSGR                       1504049 non-null  float64\n",
            " 3   Longitude                                    1504049 non-null  float64\n",
            " 4   Latitude                                     1504049 non-null  float64\n",
            " 5   Police_Force                                 1504150 non-null  int64  \n",
            " 6   Accident_Severity                            1504150 non-null  int64  \n",
            " 7   Number_of_Vehicles                           1504150 non-null  int64  \n",
            " 8   Number_of_Casualties                         1504150 non-null  int64  \n",
            " 9   Date                                         1504150 non-null  object \n",
            " 10  Day_of_Week                                  1504150 non-null  int64  \n",
            " 11  Time                                         1504033 non-null  object \n",
            " 12  Local_Authority_(District)                   1504150 non-null  int64  \n",
            " 13  Local_Authority_(Highway)                    1504150 non-null  object \n",
            " 14  1st_Road_Class                               1504150 non-null  int64  \n",
            " 15  1st_Road_Number                              1504150 non-null  int64  \n",
            " 16  Road_Type                                    1504150 non-null  object \n",
            " 17  Speed_limit                                  1504150 non-null  int64  \n",
            " 18  Junction_Detail                              0 non-null        float64\n",
            " 19  Junction_Control                             901315 non-null   object \n",
            " 20  2nd_Road_Class                               1504150 non-null  int64  \n",
            " 21  2nd_Road_Number                              1504150 non-null  int64  \n",
            " 22  Pedestrian_Crossing-Human_Control            1504133 non-null  object \n",
            " 23  Pedestrian_Crossing-Physical_Facilities      1504116 non-null  object \n",
            " 24  Light_Conditions                             1504150 non-null  object \n",
            " 25  Weather_Conditions                           1504024 non-null  object \n",
            " 26  Road_Surface_Conditions                      1502192 non-null  object \n",
            " 27  Special_Conditions_at_Site                   1504135 non-null  object \n",
            " 28  Carriageway_Hazards                          1504121 non-null  object \n",
            " 29  Urban_or_Rural_Area                          1504150 non-null  int64  \n",
            " 30  Did_Police_Officer_Attend_Scene_of_Accident  1501228 non-null  object \n",
            " 31  LSOA_of_Accident_Location                    1395912 non-null  object \n",
            " 32  Year                                         1504150 non-null  int64  \n",
            " 33  new_acc_sev                                  1504150 non-null  int64  \n",
            "dtypes: float64(5), int64(14), object(15)\n",
            "memory usage: 401.7+ MB\n"
          ],
          "name": "stdout"
        }
      ]
    },
    {
      "cell_type": "code",
      "metadata": {
        "id": "qHYTGC0lk6hu",
        "colab_type": "code",
        "outputId": "bbbd8dff-d1fd-45d4-a3bb-5bd945f1b017",
        "colab": {
          "base_uri": "https://localhost:8080/",
          "height": 600
        }
      },
      "source": [
        "# check missing values\n",
        "data.isna().sum()"
      ],
      "execution_count": 0,
      "outputs": [
        {
          "output_type": "execute_result",
          "data": {
            "text/plain": [
              "Accident_Index                                       0\n",
              "Location_Easting_OSGR                              101\n",
              "Location_Northing_OSGR                             101\n",
              "Longitude                                          101\n",
              "Latitude                                           101\n",
              "Police_Force                                         0\n",
              "Accident_Severity                                    0\n",
              "Number_of_Vehicles                                   0\n",
              "Number_of_Casualties                                 0\n",
              "Date                                                 0\n",
              "Day_of_Week                                          0\n",
              "Time                                               117\n",
              "Local_Authority_(District)                           0\n",
              "Local_Authority_(Highway)                            0\n",
              "1st_Road_Class                                       0\n",
              "1st_Road_Number                                      0\n",
              "Road_Type                                            0\n",
              "Speed_limit                                          0\n",
              "Junction_Detail                                1504150\n",
              "Junction_Control                                602835\n",
              "2nd_Road_Class                                       0\n",
              "2nd_Road_Number                                      0\n",
              "Pedestrian_Crossing-Human_Control                   17\n",
              "Pedestrian_Crossing-Physical_Facilities             34\n",
              "Light_Conditions                                     0\n",
              "Weather_Conditions                                 126\n",
              "Road_Surface_Conditions                           1958\n",
              "Special_Conditions_at_Site                          15\n",
              "Carriageway_Hazards                                 29\n",
              "Urban_or_Rural_Area                                  0\n",
              "Did_Police_Officer_Attend_Scene_of_Accident       2922\n",
              "LSOA_of_Accident_Location                       108238\n",
              "Year                                                 0\n",
              "new_acc_sev                                          0\n",
              "dtype: int64"
            ]
          },
          "metadata": {
            "tags": []
          },
          "execution_count": 11
        }
      ]
    },
    {
      "cell_type": "markdown",
      "metadata": {
        "id": "9Bs9tRy7np5U",
        "colab_type": "text"
      },
      "source": [
        "Feature Engineering"
      ]
    },
    {
      "cell_type": "code",
      "metadata": {
        "id": "ExRkaCbj2h9P",
        "colab_type": "code",
        "outputId": "b78d6ed3-d4cd-4f6e-cdac-ac543cfe860c",
        "colab": {
          "base_uri": "https://localhost:8080/",
          "height": 877
        }
      },
      "source": [
        "data.hist(bins=50, figsize=(20,15))\n",
        "plt.show()"
      ],
      "execution_count": 0,
      "outputs": [
        {
          "output_type": "display_data",
          "data": {
            "image/png": "[encoded data removed]",
            "text/plain": [
              "<Figure size 1440x1080 with 20 Axes>"
            ]
          },
          "metadata": {
            "tags": [],
            "needs_background": "light"
          }
        }
      ]
    },
    {
      "cell_type": "code",
      "metadata": {
        "id": "jItJIpW_nARM",
        "colab_type": "code",
        "outputId": "cda24565-62f1-4246-ccea-a9a96e5bdf7a",
        "colab": {
          "base_uri": "https://localhost:8080/",
          "height": 560
        }
      },
      "source": [
        "plt.figure(figsize=(11,7))\n",
        "sns.heatmap(cbar=False,annot=True,data=data.corr()*100,cmap='Spectral')\n",
        "plt.title('% Corelation Matrix')\n",
        "plt.show()"
      ],
      "execution_count": 0,
      "outputs": [
        {
          "output_type": "display_data",
          "data": {
            "image/png": "[encoded data removed]",
            "text/plain": [
              "<Figure size 792x504 with 1 Axes>"
            ]
          },
          "metadata": {
            "tags": [],
            "needs_background": "light"
          }
        }
      ]
    },
    {
      "cell_type": "code",
      "metadata": {
        "id": "aGwidlak6Eat",
        "colab_type": "code",
        "colab": {}
      },
      "source": [
        "## We can see that Accident_Severity is highly correlated with numeber of Vehicles "
      ],
      "execution_count": 0,
      "outputs": []
    },
    {
      "cell_type": "code",
      "metadata": {
        "id": "WjXoB4cQySJf",
        "colab_type": "code",
        "outputId": "d303158b-c020-4abd-8e61-7c013bbca64a",
        "colab": {
          "base_uri": "https://localhost:8080/",
          "height": 33
        }
      },
      "source": [
        "data.Accident_Severity.unique()"
      ],
      "execution_count": 0,
      "outputs": [
        {
          "output_type": "execute_result",
          "data": {
            "text/plain": [
              "array([2, 3, 1])"
            ]
          },
          "metadata": {
            "tags": []
          },
          "execution_count": 16
        }
      ]
    },
    {
      "cell_type": "code",
      "metadata": {
        "id": "XoI4jvL7KPt8",
        "colab_type": "code",
        "outputId": "1eb7369c-aac4-4dfc-d340-4f3902353054",
        "colab": {
          "base_uri": "https://localhost:8080/",
          "height": 447
        }
      },
      "source": [
        "from matplotlib.ticker import ScalarFormatter\n",
        "data.Accident_Severity.value_counts().plot(kind='bar',color='turquoise',figsize=(9,7),linewidth=2,edgecolor=\"k\");\n",
        "plt.ylabel('Accident Count',fontsize=15)\n",
        "plt.xlabel('Accident Severity',fontsize=15)\n",
        "plt.xticks(rotation=0, ha='right')\n",
        "plt.ticklabel_format(axis='y', style='plain')"
      ],
      "execution_count": 0,
      "outputs": [
        {
          "output_type": "display_data",
          "data": {
            "image/png": "[encoded data removed]",
            "text/plain": [
              "<Figure size 648x504 with 1 Axes>"
            ]
          },
          "metadata": {
            "tags": [],
            "needs_background": "light"
          }
        }
      ]
    },
    {
      "cell_type": "code",
      "metadata": {
        "id": "VNkwNd4PLPWg",
        "colab_type": "code",
        "outputId": "95a20a08-1141-4d72-9dbf-5259f0e495fe",
        "colab": {
          "base_uri": "https://localhost:8080/",
          "height": 546
        }
      },
      "source": [
        "from matplotlib.ticker import ScalarFormatter\n",
        "data.Light_Conditions.value_counts().plot(kind='bar',color='green',figsize=(9,7),linewidth=2,edgecolor=\"k\");\n",
        "plt.ylabel('Accident Count',fontsize=15)\n",
        "plt.xlabel('Light Conditions',fontsize=15)\n",
        "plt.xticks(rotation=30, ha='right')\n",
        "plt.ticklabel_format(axis='y', style='plain')"
      ],
      "execution_count": 0,
      "outputs": [
        {
          "output_type": "display_data",
          "data": {
            "image/png": "[encoded data removed]",
            "text/plain": [
              "<Figure size 648x504 with 1 Axes>"
            ]
          },
          "metadata": {
            "tags": [],
            "needs_background": "light"
          }
        }
      ]
    },
    {
      "cell_type": "code",
      "metadata": {
        "id": "8m4lEtzcLUnS",
        "colab_type": "code",
        "outputId": "d24bb9e1-cb6b-443c-ab1a-b74246fe2863",
        "colab": {
          "base_uri": "https://localhost:8080/",
          "height": 516
        }
      },
      "source": [
        "from matplotlib.ticker import ScalarFormatter\n",
        "data.Weather_Conditions.value_counts().plot(kind='bar',color='orange',figsize=(9,7),linewidth=2,edgecolor=\"k\");\n",
        "plt.ylabel('Accident Count',fontsize=15)\n",
        "plt.xlabel('Weather Conditions',fontsize=15)\n",
        "plt.xticks(rotation=30, ha='right')\n",
        "plt.ticklabel_format(axis='y', style='plain')"
      ],
      "execution_count": 0,
      "outputs": [
        {
          "output_type": "display_data",
          "data": {
            "image/png": "[encoded data removed]",
            "text/plain": [
              "<Figure size 648x504 with 1 Axes>"
            ]
          },
          "metadata": {
            "tags": [],
            "needs_background": "light"
          }
        }
      ]
    },
    {
      "cell_type": "code",
      "metadata": {
        "id": "wHkGL3udLXxe",
        "colab_type": "code",
        "outputId": "512c13c3-07b3-41c7-eae7-c6119ea73503",
        "colab": {
          "base_uri": "https://localhost:8080/",
          "height": 511
        }
      },
      "source": [
        "from matplotlib.ticker import ScalarFormatter\n",
        "data.Road_Surface_Conditions.value_counts().plot(kind='bar',color='yellow',figsize=(9,7),linewidth=2,edgecolor=\"k\");\n",
        "plt.ylabel('Accident Count',fontsize=15)\n",
        "plt.xlabel('Road Conditions',fontsize=15)\n",
        "plt.xticks(rotation=30, ha='right')\n",
        "plt.ticklabel_format(axis='y', style='plain')"
      ],
      "execution_count": 0,
      "outputs": [
        {
          "output_type": "display_data",
          "data": {
            "image/png": "[encoded data removed]",
            "text/plain": [
              "<Figure size 648x504 with 1 Axes>"
            ]
          },
          "metadata": {
            "tags": [],
            "needs_background": "light"
          }
        }
      ]
    },
    {
      "cell_type": "code",
      "metadata": {
        "id": "qhnhd6doL3o9",
        "colab_type": "code",
        "outputId": "77cb7f50-841d-4450-9060-701cb7ebf136",
        "colab": {
          "base_uri": "https://localhost:8080/",
          "height": 459
        }
      },
      "source": [
        "from matplotlib.ticker import ScalarFormatter\n",
        "data.Year.value_counts().plot(kind='bar',color='teal',figsize=(9,7),linewidth=2,edgecolor=\"k\");\n",
        "plt.ylabel('Accident Count',fontsize=15)\n",
        "plt.xlabel('Road Conditions',fontsize=15)\n",
        "plt.xticks(rotation=30, ha='right')\n",
        "plt.ticklabel_format(axis='y', style='plain')"
      ],
      "execution_count": 0,
      "outputs": [
        {
          "output_type": "display_data",
          "data": {
            "image/png": "[encoded data removed]",
            "text/plain": [
              "<Figure size 648x504 with 1 Axes>"
            ]
          },
          "metadata": {
            "tags": [],
            "needs_background": "light"
          }
        }
      ]
    },
    {
      "cell_type": "code",
      "metadata": {
        "id": "MokkKpikySb-",
        "colab_type": "code",
        "colab": {}
      },
      "source": [
        "data.drop(['Junction_Detail', 'Junction_Control','LSOA_of_Accident_Location','Accident_Index','Location_Easting_OSGR','Location_Northing_OSGR','Longitude','Latitude','1st_Road_Number','2nd_Road_Number','Accident_Severity'] ,axis=1, inplace=True)"
      ],
      "execution_count": 0,
      "outputs": []
    },
    {
      "cell_type": "code",
      "metadata": {
        "id": "Szb--N2SyTrw",
        "colab_type": "code",
        "colab": {}
      },
      "source": [
        "data.dropna(inplace=True)"
      ],
      "execution_count": 0,
      "outputs": []
    },
    {
      "cell_type": "code",
      "metadata": {
        "id": "7lfhZTQdzWjn",
        "colab_type": "code",
        "outputId": "592e81ce-0664-44a4-ae17-5701cd41937e",
        "colab": {
          "base_uri": "https://localhost:8080/",
          "height": 517
        }
      },
      "source": [
        "data.info()"
      ],
      "execution_count": 0,
      "outputs": [
        {
          "output_type": "stream",
          "text": [
            "<class 'pandas.core.frame.DataFrame'>\n",
            "Int64Index: 1499598 entries, 0 to 464696\n",
            "Data columns (total 23 columns):\n",
            " #   Column                                       Non-Null Count    Dtype \n",
            "---  ------                                       --------------    ----- \n",
            " 0   Police_Force                                 1499598 non-null  int64 \n",
            " 1   Number_of_Vehicles                           1499598 non-null  int64 \n",
            " 2   Number_of_Casualties                         1499598 non-null  int64 \n",
            " 3   Date                                         1499598 non-null  object\n",
            " 4   Day_of_Week                                  1499598 non-null  int64 \n",
            " 5   Time                                         1499598 non-null  object\n",
            " 6   Local_Authority_(District)                   1499598 non-null  int64 \n",
            " 7   Local_Authority_(Highway)                    1499598 non-null  object\n",
            " 8   1st_Road_Class                               1499598 non-null  int64 \n",
            " 9   Road_Type                                    1499598 non-null  object\n",
            " 10  Speed_limit                                  1499598 non-null  int64 \n",
            " 11  2nd_Road_Class                               1499598 non-null  int64 \n",
            " 12  Pedestrian_Crossing-Human_Control            1499598 non-null  object\n",
            " 13  Pedestrian_Crossing-Physical_Facilities      1499598 non-null  object\n",
            " 14  Light_Conditions                             1499598 non-null  object\n",
            " 15  Weather_Conditions                           1499598 non-null  object\n",
            " 16  Road_Surface_Conditions                      1499598 non-null  object\n",
            " 17  Special_Conditions_at_Site                   1499598 non-null  object\n",
            " 18  Carriageway_Hazards                          1499598 non-null  object\n",
            " 19  Urban_or_Rural_Area                          1499598 non-null  int64 \n",
            " 20  Did_Police_Officer_Attend_Scene_of_Accident  1499598 non-null  object\n",
            " 21  Year                                         1499598 non-null  int64 \n",
            " 22  new_acc_sev                                  1499598 non-null  int64 \n",
            "dtypes: int64(11), object(12)\n",
            "memory usage: 274.6+ MB\n"
          ],
          "name": "stdout"
        }
      ]
    },
    {
      "cell_type": "code",
      "metadata": {
        "id": "1o6gZHijzbhM",
        "colab_type": "code",
        "colab": {}
      },
      "source": [
        "# drop more columns that may not be useful\n",
        "data.drop(['Police_Force','Local_Authority_(District)','Local_Authority_(Highway)'] ,axis=1, inplace=True)"
      ],
      "execution_count": 0,
      "outputs": []
    },
    {
      "cell_type": "code",
      "metadata": {
        "id": "3DXEtyLvzedH",
        "colab_type": "code",
        "colab": {}
      },
      "source": [
        "# create 'time' and 'date' columns (extra columns)\n",
        "# split the time:\n",
        "data[\"time_modified\"] = round(data[\"Time\"].str.slice(0,2,1).astype(int) + (data[\"Time\"].str.slice(3,5,1).astype(int))/60,2)\n",
        "# data.head()\n"
      ],
      "execution_count": 0,
      "outputs": []
    },
    {
      "cell_type": "code",
      "metadata": {
        "id": "esuniiZxzpv7",
        "colab_type": "code",
        "outputId": "ba319b5e-c96b-45ab-b2e9-21adb9e6f7f9",
        "colab": {
          "base_uri": "https://localhost:8080/",
          "height": 351
        }
      },
      "source": [
        "# split the date to base on the month\n",
        "\n",
        "data[\"month_from_date\"] = data[\"Date\"].str.slice(0,2,1).astype(int)\n",
        "data.head()"
      ],
      "execution_count": 0,
      "outputs": [
        {
          "output_type": "execute_result",
          "data": {
            "text/html": [
              "<div>\n",
              "<style scoped>\n",
              "    .dataframe tbody tr th:only-of-type {\n",
              "        vertical-align: middle;\n",
              "    }\n",
              "\n",
              "    .dataframe tbody tr th {\n",
              "        vertical-align: top;\n",
              "    }\n",
              "\n",
              "    .dataframe thead th {\n",
              "        text-align: right;\n",
              "    }\n",
              "</style>\n",
              "<table border=\"1\" class=\"dataframe\">\n",
              "  <thead>\n",
              "    <tr style=\"text-align: right;\">\n",
              "      <th></th>\n",
              "      <th>Number_of_Vehicles</th>\n",
              "      <th>Number_of_Casualties</th>\n",
              "      <th>Date</th>\n",
              "      <th>Day_of_Week</th>\n",
              "      <th>Time</th>\n",
              "      <th>1st_Road_Class</th>\n",
              "      <th>Road_Type</th>\n",
              "      <th>Speed_limit</th>\n",
              "      <th>2nd_Road_Class</th>\n",
              "      <th>Pedestrian_Crossing-Human_Control</th>\n",
              "      <th>Pedestrian_Crossing-Physical_Facilities</th>\n",
              "      <th>Light_Conditions</th>\n",
              "      <th>Weather_Conditions</th>\n",
              "      <th>Road_Surface_Conditions</th>\n",
              "      <th>Special_Conditions_at_Site</th>\n",
              "      <th>Carriageway_Hazards</th>\n",
              "      <th>Urban_or_Rural_Area</th>\n",
              "      <th>Did_Police_Officer_Attend_Scene_of_Accident</th>\n",
              "      <th>Year</th>\n",
              "      <th>new_acc_sev</th>\n",
              "      <th>time_modified</th>\n",
              "      <th>month_from_date</th>\n",
              "    </tr>\n",
              "  </thead>\n",
              "  <tbody>\n",
              "    <tr>\n",
              "      <th>0</th>\n",
              "      <td>1</td>\n",
              "      <td>1</td>\n",
              "      <td>04/01/2005</td>\n",
              "      <td>3</td>\n",
              "      <td>17:42</td>\n",
              "      <td>3</td>\n",
              "      <td>Single carriageway</td>\n",
              "      <td>30</td>\n",
              "      <td>-1</td>\n",
              "      <td>None within 50 metres</td>\n",
              "      <td>Zebra crossing</td>\n",
              "      <td>Daylight: Street light present</td>\n",
              "      <td>Raining without high winds</td>\n",
              "      <td>Wet/Damp</td>\n",
              "      <td>None</td>\n",
              "      <td>None</td>\n",
              "      <td>1</td>\n",
              "      <td>Yes</td>\n",
              "      <td>2005</td>\n",
              "      <td>0</td>\n",
              "      <td>17.70</td>\n",
              "      <td>4</td>\n",
              "    </tr>\n",
              "    <tr>\n",
              "      <th>1</th>\n",
              "      <td>1</td>\n",
              "      <td>1</td>\n",
              "      <td>05/01/2005</td>\n",
              "      <td>4</td>\n",
              "      <td>17:36</td>\n",
              "      <td>4</td>\n",
              "      <td>Dual carriageway</td>\n",
              "      <td>30</td>\n",
              "      <td>5</td>\n",
              "      <td>None within 50 metres</td>\n",
              "      <td>Pedestrian phase at traffic signal junction</td>\n",
              "      <td>Darkness: Street lights present and lit</td>\n",
              "      <td>Fine without high winds</td>\n",
              "      <td>Dry</td>\n",
              "      <td>None</td>\n",
              "      <td>None</td>\n",
              "      <td>1</td>\n",
              "      <td>Yes</td>\n",
              "      <td>2005</td>\n",
              "      <td>1</td>\n",
              "      <td>17.60</td>\n",
              "      <td>5</td>\n",
              "    </tr>\n",
              "    <tr>\n",
              "      <th>2</th>\n",
              "      <td>2</td>\n",
              "      <td>1</td>\n",
              "      <td>06/01/2005</td>\n",
              "      <td>5</td>\n",
              "      <td>00:15</td>\n",
              "      <td>5</td>\n",
              "      <td>Single carriageway</td>\n",
              "      <td>30</td>\n",
              "      <td>-1</td>\n",
              "      <td>None within 50 metres</td>\n",
              "      <td>No physical crossing within 50 meters</td>\n",
              "      <td>Darkness: Street lights present and lit</td>\n",
              "      <td>Fine without high winds</td>\n",
              "      <td>Dry</td>\n",
              "      <td>None</td>\n",
              "      <td>None</td>\n",
              "      <td>1</td>\n",
              "      <td>Yes</td>\n",
              "      <td>2005</td>\n",
              "      <td>1</td>\n",
              "      <td>0.25</td>\n",
              "      <td>6</td>\n",
              "    </tr>\n",
              "    <tr>\n",
              "      <th>3</th>\n",
              "      <td>1</td>\n",
              "      <td>1</td>\n",
              "      <td>07/01/2005</td>\n",
              "      <td>6</td>\n",
              "      <td>10:35</td>\n",
              "      <td>3</td>\n",
              "      <td>Single carriageway</td>\n",
              "      <td>30</td>\n",
              "      <td>-1</td>\n",
              "      <td>None within 50 metres</td>\n",
              "      <td>No physical crossing within 50 meters</td>\n",
              "      <td>Daylight: Street light present</td>\n",
              "      <td>Fine without high winds</td>\n",
              "      <td>Dry</td>\n",
              "      <td>None</td>\n",
              "      <td>None</td>\n",
              "      <td>1</td>\n",
              "      <td>Yes</td>\n",
              "      <td>2005</td>\n",
              "      <td>1</td>\n",
              "      <td>10.58</td>\n",
              "      <td>7</td>\n",
              "    </tr>\n",
              "    <tr>\n",
              "      <th>4</th>\n",
              "      <td>1</td>\n",
              "      <td>1</td>\n",
              "      <td>10/01/2005</td>\n",
              "      <td>2</td>\n",
              "      <td>21:13</td>\n",
              "      <td>6</td>\n",
              "      <td>Single carriageway</td>\n",
              "      <td>30</td>\n",
              "      <td>-1</td>\n",
              "      <td>None within 50 metres</td>\n",
              "      <td>No physical crossing within 50 meters</td>\n",
              "      <td>Darkness: Street lighting unknown</td>\n",
              "      <td>Fine without high winds</td>\n",
              "      <td>Wet/Damp</td>\n",
              "      <td>None</td>\n",
              "      <td>None</td>\n",
              "      <td>1</td>\n",
              "      <td>Yes</td>\n",
              "      <td>2005</td>\n",
              "      <td>1</td>\n",
              "      <td>21.22</td>\n",
              "      <td>10</td>\n",
              "    </tr>\n",
              "  </tbody>\n",
              "</table>\n",
              "</div>"
            ],
            "text/plain": [
              "   Number_of_Vehicles  Number_of_Casualties  ... time_modified  month_from_date\n",
              "0                   1                     1  ...         17.70                4\n",
              "1                   1                     1  ...         17.60                5\n",
              "2                   2                     1  ...          0.25                6\n",
              "3                   1                     1  ...         10.58                7\n",
              "4                   1                     1  ...         21.22               10\n",
              "\n",
              "[5 rows x 22 columns]"
            ]
          },
          "metadata": {
            "tags": []
          },
          "execution_count": 22
        }
      ]
    },
    {
      "cell_type": "code",
      "metadata": {
        "id": "CCc9j-XvzuAg",
        "colab_type": "code",
        "outputId": "6e70e159-199b-46d5-ec4f-a68005e2e8e9",
        "colab": {
          "base_uri": "https://localhost:8080/",
          "height": 297
        }
      },
      "source": [
        "# set up dummy variables\n",
        "data = pd.get_dummies(data, columns=[\"1st_Road_Class\",\"Road_Type\",\"2nd_Road_Class\",\"Pedestrian_Crossing-Human_Control\",\"Pedestrian_Crossing-Physical_Facilities\",\"Light_Conditions\",\"Weather_Conditions\",\"Road_Surface_Conditions\",\"Special_Conditions_at_Site\",\"Carriageway_Hazards\",\"Urban_or_Rural_Area\",\"Did_Police_Officer_Attend_Scene_of_Accident\",\"month_from_date\",\"Year\",\"Day_of_Week\"], drop_first=True)\n",
        "data.head()"
      ],
      "execution_count": 0,
      "outputs": [
        {
          "output_type": "execute_result",
          "data": {
            "text/html": [
              "<div>\n",
              "<style scoped>\n",
              "    .dataframe tbody tr th:only-of-type {\n",
              "        vertical-align: middle;\n",
              "    }\n",
              "\n",
              "    .dataframe tbody tr th {\n",
              "        vertical-align: top;\n",
              "    }\n",
              "\n",
              "    .dataframe thead th {\n",
              "        text-align: right;\n",
              "    }\n",
              "</style>\n",
              "<table border=\"1\" class=\"dataframe\">\n",
              "  <thead>\n",
              "    <tr style=\"text-align: right;\">\n",
              "      <th></th>\n",
              "      <th>Number_of_Vehicles</th>\n",
              "      <th>Number_of_Casualties</th>\n",
              "      <th>Date</th>\n",
              "      <th>Time</th>\n",
              "      <th>Speed_limit</th>\n",
              "      <th>new_acc_sev</th>\n",
              "      <th>time_modified</th>\n",
              "      <th>1st_Road_Class_2</th>\n",
              "      <th>1st_Road_Class_3</th>\n",
              "      <th>1st_Road_Class_4</th>\n",
              "      <th>1st_Road_Class_5</th>\n",
              "      <th>1st_Road_Class_6</th>\n",
              "      <th>Road_Type_One way street</th>\n",
              "      <th>Road_Type_Roundabout</th>\n",
              "      <th>Road_Type_Single carriageway</th>\n",
              "      <th>Road_Type_Slip road</th>\n",
              "      <th>Road_Type_Unknown</th>\n",
              "      <th>2nd_Road_Class_1</th>\n",
              "      <th>2nd_Road_Class_2</th>\n",
              "      <th>2nd_Road_Class_3</th>\n",
              "      <th>2nd_Road_Class_4</th>\n",
              "      <th>2nd_Road_Class_5</th>\n",
              "      <th>2nd_Road_Class_6</th>\n",
              "      <th>Pedestrian_Crossing-Human_Control_Control by school crossing patrol</th>\n",
              "      <th>Pedestrian_Crossing-Human_Control_None within 50 metres</th>\n",
              "      <th>Pedestrian_Crossing-Physical_Facilities_Footbridge or subway</th>\n",
              "      <th>Pedestrian_Crossing-Physical_Facilities_No physical crossing within 50 meters</th>\n",
              "      <th>Pedestrian_Crossing-Physical_Facilities_Pedestrian phase at traffic signal junction</th>\n",
              "      <th>Pedestrian_Crossing-Physical_Facilities_Zebra crossing</th>\n",
              "      <th>Pedestrian_Crossing-Physical_Facilities_non-junction pedestrian crossing</th>\n",
              "      <th>Light_Conditions_Darkness: Street lighting unknown</th>\n",
              "      <th>Light_Conditions_Darkness: Street lights present and lit</th>\n",
              "      <th>Light_Conditions_Darkness: Street lights present but unlit</th>\n",
              "      <th>Light_Conditions_Daylight: Street light present</th>\n",
              "      <th>Weather_Conditions_Fine without high winds</th>\n",
              "      <th>Weather_Conditions_Fog or mist</th>\n",
              "      <th>Weather_Conditions_Other</th>\n",
              "      <th>Weather_Conditions_Raining with high winds</th>\n",
              "      <th>Weather_Conditions_Raining without high winds</th>\n",
              "      <th>Weather_Conditions_Snowing with high winds</th>\n",
              "      <th>...</th>\n",
              "      <th>month_from_date_6</th>\n",
              "      <th>month_from_date_7</th>\n",
              "      <th>month_from_date_8</th>\n",
              "      <th>month_from_date_9</th>\n",
              "      <th>month_from_date_10</th>\n",
              "      <th>month_from_date_11</th>\n",
              "      <th>month_from_date_12</th>\n",
              "      <th>month_from_date_13</th>\n",
              "      <th>month_from_date_14</th>\n",
              "      <th>month_from_date_15</th>\n",
              "      <th>month_from_date_16</th>\n",
              "      <th>month_from_date_17</th>\n",
              "      <th>month_from_date_18</th>\n",
              "      <th>month_from_date_19</th>\n",
              "      <th>month_from_date_20</th>\n",
              "      <th>month_from_date_21</th>\n",
              "      <th>month_from_date_22</th>\n",
              "      <th>month_from_date_23</th>\n",
              "      <th>month_from_date_24</th>\n",
              "      <th>month_from_date_25</th>\n",
              "      <th>month_from_date_26</th>\n",
              "      <th>month_from_date_27</th>\n",
              "      <th>month_from_date_28</th>\n",
              "      <th>month_from_date_29</th>\n",
              "      <th>month_from_date_30</th>\n",
              "      <th>month_from_date_31</th>\n",
              "      <th>Year_2006</th>\n",
              "      <th>Year_2007</th>\n",
              "      <th>Year_2009</th>\n",
              "      <th>Year_2010</th>\n",
              "      <th>Year_2011</th>\n",
              "      <th>Year_2012</th>\n",
              "      <th>Year_2013</th>\n",
              "      <th>Year_2014</th>\n",
              "      <th>Day_of_Week_2</th>\n",
              "      <th>Day_of_Week_3</th>\n",
              "      <th>Day_of_Week_4</th>\n",
              "      <th>Day_of_Week_5</th>\n",
              "      <th>Day_of_Week_6</th>\n",
              "      <th>Day_of_Week_7</th>\n",
              "    </tr>\n",
              "  </thead>\n",
              "  <tbody>\n",
              "    <tr>\n",
              "      <th>0</th>\n",
              "      <td>1</td>\n",
              "      <td>1</td>\n",
              "      <td>04/01/2005</td>\n",
              "      <td>17:42</td>\n",
              "      <td>30</td>\n",
              "      <td>0</td>\n",
              "      <td>17.70</td>\n",
              "      <td>0</td>\n",
              "      <td>1</td>\n",
              "      <td>0</td>\n",
              "      <td>0</td>\n",
              "      <td>0</td>\n",
              "      <td>0</td>\n",
              "      <td>0</td>\n",
              "      <td>1</td>\n",
              "      <td>0</td>\n",
              "      <td>0</td>\n",
              "      <td>0</td>\n",
              "      <td>0</td>\n",
              "      <td>0</td>\n",
              "      <td>0</td>\n",
              "      <td>0</td>\n",
              "      <td>0</td>\n",
              "      <td>0</td>\n",
              "      <td>1</td>\n",
              "      <td>0</td>\n",
              "      <td>0</td>\n",
              "      <td>0</td>\n",
              "      <td>1</td>\n",
              "      <td>0</td>\n",
              "      <td>0</td>\n",
              "      <td>0</td>\n",
              "      <td>0</td>\n",
              "      <td>1</td>\n",
              "      <td>0</td>\n",
              "      <td>0</td>\n",
              "      <td>0</td>\n",
              "      <td>0</td>\n",
              "      <td>1</td>\n",
              "      <td>0</td>\n",
              "      <td>...</td>\n",
              "      <td>0</td>\n",
              "      <td>0</td>\n",
              "      <td>0</td>\n",
              "      <td>0</td>\n",
              "      <td>0</td>\n",
              "      <td>0</td>\n",
              "      <td>0</td>\n",
              "      <td>0</td>\n",
              "      <td>0</td>\n",
              "      <td>0</td>\n",
              "      <td>0</td>\n",
              "      <td>0</td>\n",
              "      <td>0</td>\n",
              "      <td>0</td>\n",
              "      <td>0</td>\n",
              "      <td>0</td>\n",
              "      <td>0</td>\n",
              "      <td>0</td>\n",
              "      <td>0</td>\n",
              "      <td>0</td>\n",
              "      <td>0</td>\n",
              "      <td>0</td>\n",
              "      <td>0</td>\n",
              "      <td>0</td>\n",
              "      <td>0</td>\n",
              "      <td>0</td>\n",
              "      <td>0</td>\n",
              "      <td>0</td>\n",
              "      <td>0</td>\n",
              "      <td>0</td>\n",
              "      <td>0</td>\n",
              "      <td>0</td>\n",
              "      <td>0</td>\n",
              "      <td>0</td>\n",
              "      <td>0</td>\n",
              "      <td>1</td>\n",
              "      <td>0</td>\n",
              "      <td>0</td>\n",
              "      <td>0</td>\n",
              "      <td>0</td>\n",
              "    </tr>\n",
              "    <tr>\n",
              "      <th>1</th>\n",
              "      <td>1</td>\n",
              "      <td>1</td>\n",
              "      <td>05/01/2005</td>\n",
              "      <td>17:36</td>\n",
              "      <td>30</td>\n",
              "      <td>1</td>\n",
              "      <td>17.60</td>\n",
              "      <td>0</td>\n",
              "      <td>0</td>\n",
              "      <td>1</td>\n",
              "      <td>0</td>\n",
              "      <td>0</td>\n",
              "      <td>0</td>\n",
              "      <td>0</td>\n",
              "      <td>0</td>\n",
              "      <td>0</td>\n",
              "      <td>0</td>\n",
              "      <td>0</td>\n",
              "      <td>0</td>\n",
              "      <td>0</td>\n",
              "      <td>0</td>\n",
              "      <td>1</td>\n",
              "      <td>0</td>\n",
              "      <td>0</td>\n",
              "      <td>1</td>\n",
              "      <td>0</td>\n",
              "      <td>0</td>\n",
              "      <td>1</td>\n",
              "      <td>0</td>\n",
              "      <td>0</td>\n",
              "      <td>0</td>\n",
              "      <td>1</td>\n",
              "      <td>0</td>\n",
              "      <td>0</td>\n",
              "      <td>1</td>\n",
              "      <td>0</td>\n",
              "      <td>0</td>\n",
              "      <td>0</td>\n",
              "      <td>0</td>\n",
              "      <td>0</td>\n",
              "      <td>...</td>\n",
              "      <td>0</td>\n",
              "      <td>0</td>\n",
              "      <td>0</td>\n",
              "      <td>0</td>\n",
              "      <td>0</td>\n",
              "      <td>0</td>\n",
              "      <td>0</td>\n",
              "      <td>0</td>\n",
              "      <td>0</td>\n",
              "      <td>0</td>\n",
              "      <td>0</td>\n",
              "      <td>0</td>\n",
              "      <td>0</td>\n",
              "      <td>0</td>\n",
              "      <td>0</td>\n",
              "      <td>0</td>\n",
              "      <td>0</td>\n",
              "      <td>0</td>\n",
              "      <td>0</td>\n",
              "      <td>0</td>\n",
              "      <td>0</td>\n",
              "      <td>0</td>\n",
              "      <td>0</td>\n",
              "      <td>0</td>\n",
              "      <td>0</td>\n",
              "      <td>0</td>\n",
              "      <td>0</td>\n",
              "      <td>0</td>\n",
              "      <td>0</td>\n",
              "      <td>0</td>\n",
              "      <td>0</td>\n",
              "      <td>0</td>\n",
              "      <td>0</td>\n",
              "      <td>0</td>\n",
              "      <td>0</td>\n",
              "      <td>0</td>\n",
              "      <td>1</td>\n",
              "      <td>0</td>\n",
              "      <td>0</td>\n",
              "      <td>0</td>\n",
              "    </tr>\n",
              "    <tr>\n",
              "      <th>2</th>\n",
              "      <td>2</td>\n",
              "      <td>1</td>\n",
              "      <td>06/01/2005</td>\n",
              "      <td>00:15</td>\n",
              "      <td>30</td>\n",
              "      <td>1</td>\n",
              "      <td>0.25</td>\n",
              "      <td>0</td>\n",
              "      <td>0</td>\n",
              "      <td>0</td>\n",
              "      <td>1</td>\n",
              "      <td>0</td>\n",
              "      <td>0</td>\n",
              "      <td>0</td>\n",
              "      <td>1</td>\n",
              "      <td>0</td>\n",
              "      <td>0</td>\n",
              "      <td>0</td>\n",
              "      <td>0</td>\n",
              "      <td>0</td>\n",
              "      <td>0</td>\n",
              "      <td>0</td>\n",
              "      <td>0</td>\n",
              "      <td>0</td>\n",
              "      <td>1</td>\n",
              "      <td>0</td>\n",
              "      <td>1</td>\n",
              "      <td>0</td>\n",
              "      <td>0</td>\n",
              "      <td>0</td>\n",
              "      <td>0</td>\n",
              "      <td>1</td>\n",
              "      <td>0</td>\n",
              "      <td>0</td>\n",
              "      <td>1</td>\n",
              "      <td>0</td>\n",
              "      <td>0</td>\n",
              "      <td>0</td>\n",
              "      <td>0</td>\n",
              "      <td>0</td>\n",
              "      <td>...</td>\n",
              "      <td>1</td>\n",
              "      <td>0</td>\n",
              "      <td>0</td>\n",
              "      <td>0</td>\n",
              "      <td>0</td>\n",
              "      <td>0</td>\n",
              "      <td>0</td>\n",
              "      <td>0</td>\n",
              "      <td>0</td>\n",
              "      <td>0</td>\n",
              "      <td>0</td>\n",
              "      <td>0</td>\n",
              "      <td>0</td>\n",
              "      <td>0</td>\n",
              "      <td>0</td>\n",
              "      <td>0</td>\n",
              "      <td>0</td>\n",
              "      <td>0</td>\n",
              "      <td>0</td>\n",
              "      <td>0</td>\n",
              "      <td>0</td>\n",
              "      <td>0</td>\n",
              "      <td>0</td>\n",
              "      <td>0</td>\n",
              "      <td>0</td>\n",
              "      <td>0</td>\n",
              "      <td>0</td>\n",
              "      <td>0</td>\n",
              "      <td>0</td>\n",
              "      <td>0</td>\n",
              "      <td>0</td>\n",
              "      <td>0</td>\n",
              "      <td>0</td>\n",
              "      <td>0</td>\n",
              "      <td>0</td>\n",
              "      <td>0</td>\n",
              "      <td>0</td>\n",
              "      <td>1</td>\n",
              "      <td>0</td>\n",
              "      <td>0</td>\n",
              "    </tr>\n",
              "    <tr>\n",
              "      <th>3</th>\n",
              "      <td>1</td>\n",
              "      <td>1</td>\n",
              "      <td>07/01/2005</td>\n",
              "      <td>10:35</td>\n",
              "      <td>30</td>\n",
              "      <td>1</td>\n",
              "      <td>10.58</td>\n",
              "      <td>0</td>\n",
              "      <td>1</td>\n",
              "      <td>0</td>\n",
              "      <td>0</td>\n",
              "      <td>0</td>\n",
              "      <td>0</td>\n",
              "      <td>0</td>\n",
              "      <td>1</td>\n",
              "      <td>0</td>\n",
              "      <td>0</td>\n",
              "      <td>0</td>\n",
              "      <td>0</td>\n",
              "      <td>0</td>\n",
              "      <td>0</td>\n",
              "      <td>0</td>\n",
              "      <td>0</td>\n",
              "      <td>0</td>\n",
              "      <td>1</td>\n",
              "      <td>0</td>\n",
              "      <td>1</td>\n",
              "      <td>0</td>\n",
              "      <td>0</td>\n",
              "      <td>0</td>\n",
              "      <td>0</td>\n",
              "      <td>0</td>\n",
              "      <td>0</td>\n",
              "      <td>1</td>\n",
              "      <td>1</td>\n",
              "      <td>0</td>\n",
              "      <td>0</td>\n",
              "      <td>0</td>\n",
              "      <td>0</td>\n",
              "      <td>0</td>\n",
              "      <td>...</td>\n",
              "      <td>0</td>\n",
              "      <td>1</td>\n",
              "      <td>0</td>\n",
              "      <td>0</td>\n",
              "      <td>0</td>\n",
              "      <td>0</td>\n",
              "      <td>0</td>\n",
              "      <td>0</td>\n",
              "      <td>0</td>\n",
              "      <td>0</td>\n",
              "      <td>0</td>\n",
              "      <td>0</td>\n",
              "      <td>0</td>\n",
              "      <td>0</td>\n",
              "      <td>0</td>\n",
              "      <td>0</td>\n",
              "      <td>0</td>\n",
              "      <td>0</td>\n",
              "      <td>0</td>\n",
              "      <td>0</td>\n",
              "      <td>0</td>\n",
              "      <td>0</td>\n",
              "      <td>0</td>\n",
              "      <td>0</td>\n",
              "      <td>0</td>\n",
              "      <td>0</td>\n",
              "      <td>0</td>\n",
              "      <td>0</td>\n",
              "      <td>0</td>\n",
              "      <td>0</td>\n",
              "      <td>0</td>\n",
              "      <td>0</td>\n",
              "      <td>0</td>\n",
              "      <td>0</td>\n",
              "      <td>0</td>\n",
              "      <td>0</td>\n",
              "      <td>0</td>\n",
              "      <td>0</td>\n",
              "      <td>1</td>\n",
              "      <td>0</td>\n",
              "    </tr>\n",
              "    <tr>\n",
              "      <th>4</th>\n",
              "      <td>1</td>\n",
              "      <td>1</td>\n",
              "      <td>10/01/2005</td>\n",
              "      <td>21:13</td>\n",
              "      <td>30</td>\n",
              "      <td>1</td>\n",
              "      <td>21.22</td>\n",
              "      <td>0</td>\n",
              "      <td>0</td>\n",
              "      <td>0</td>\n",
              "      <td>0</td>\n",
              "      <td>1</td>\n",
              "      <td>0</td>\n",
              "      <td>0</td>\n",
              "      <td>1</td>\n",
              "      <td>0</td>\n",
              "      <td>0</td>\n",
              "      <td>0</td>\n",
              "      <td>0</td>\n",
              "      <td>0</td>\n",
              "      <td>0</td>\n",
              "      <td>0</td>\n",
              "      <td>0</td>\n",
              "      <td>0</td>\n",
              "      <td>1</td>\n",
              "      <td>0</td>\n",
              "      <td>1</td>\n",
              "      <td>0</td>\n",
              "      <td>0</td>\n",
              "      <td>0</td>\n",
              "      <td>1</td>\n",
              "      <td>0</td>\n",
              "      <td>0</td>\n",
              "      <td>0</td>\n",
              "      <td>1</td>\n",
              "      <td>0</td>\n",
              "      <td>0</td>\n",
              "      <td>0</td>\n",
              "      <td>0</td>\n",
              "      <td>0</td>\n",
              "      <td>...</td>\n",
              "      <td>0</td>\n",
              "      <td>0</td>\n",
              "      <td>0</td>\n",
              "      <td>0</td>\n",
              "      <td>1</td>\n",
              "      <td>0</td>\n",
              "      <td>0</td>\n",
              "      <td>0</td>\n",
              "      <td>0</td>\n",
              "      <td>0</td>\n",
              "      <td>0</td>\n",
              "      <td>0</td>\n",
              "      <td>0</td>\n",
              "      <td>0</td>\n",
              "      <td>0</td>\n",
              "      <td>0</td>\n",
              "      <td>0</td>\n",
              "      <td>0</td>\n",
              "      <td>0</td>\n",
              "      <td>0</td>\n",
              "      <td>0</td>\n",
              "      <td>0</td>\n",
              "      <td>0</td>\n",
              "      <td>0</td>\n",
              "      <td>0</td>\n",
              "      <td>0</td>\n",
              "      <td>0</td>\n",
              "      <td>0</td>\n",
              "      <td>0</td>\n",
              "      <td>0</td>\n",
              "      <td>0</td>\n",
              "      <td>0</td>\n",
              "      <td>0</td>\n",
              "      <td>0</td>\n",
              "      <td>1</td>\n",
              "      <td>0</td>\n",
              "      <td>0</td>\n",
              "      <td>0</td>\n",
              "      <td>0</td>\n",
              "      <td>0</td>\n",
              "    </tr>\n",
              "  </tbody>\n",
              "</table>\n",
              "<p>5 rows × 105 columns</p>\n",
              "</div>"
            ],
            "text/plain": [
              "   Number_of_Vehicles  Number_of_Casualties  ... Day_of_Week_6 Day_of_Week_7\n",
              "0                   1                     1  ...             0             0\n",
              "1                   1                     1  ...             0             0\n",
              "2                   2                     1  ...             0             0\n",
              "3                   1                     1  ...             1             0\n",
              "4                   1                     1  ...             0             0\n",
              "\n",
              "[5 rows x 105 columns]"
            ]
          },
          "metadata": {
            "tags": []
          },
          "execution_count": 23
        }
      ]
    },
    {
      "cell_type": "code",
      "metadata": {
        "id": "gq1RBYG-zvT3",
        "colab_type": "code",
        "outputId": "70a723db-08db-48e1-a12a-e6bb259ce2a1",
        "colab": {
          "base_uri": "https://localhost:8080/",
          "height": 150
        }
      },
      "source": [
        "data.columns"
      ],
      "execution_count": 0,
      "outputs": [
        {
          "output_type": "execute_result",
          "data": {
            "text/plain": [
              "Index(['Number_of_Vehicles', 'Number_of_Casualties', 'Date', 'Time',\n",
              "       'Speed_limit', 'new_acc_sev', 'time_modified', '1st_Road_Class_2',\n",
              "       '1st_Road_Class_3', '1st_Road_Class_4',\n",
              "       ...\n",
              "       'Year_2011', 'Year_2012', 'Year_2013', 'Year_2014', 'Day_of_Week_2',\n",
              "       'Day_of_Week_3', 'Day_of_Week_4', 'Day_of_Week_5', 'Day_of_Week_6',\n",
              "       'Day_of_Week_7'],\n",
              "      dtype='object', length=105)"
            ]
          },
          "metadata": {
            "tags": []
          },
          "execution_count": 24
        }
      ]
    },
    {
      "cell_type": "code",
      "metadata": {
        "id": "XZ5DinE_zz5p",
        "colab_type": "code",
        "colab": {}
      },
      "source": [
        "# drop more columns that may not be useful\n",
        "data.drop(['Date','Time'] ,axis=1, inplace=True)"
      ],
      "execution_count": 0,
      "outputs": []
    },
    {
      "cell_type": "code",
      "metadata": {
        "id": "o28cpAeez1JO",
        "colab_type": "code",
        "outputId": "35776a27-c44c-4c85-9277-c6634e1ad90d",
        "colab": {
          "base_uri": "https://localhost:8080/",
          "height": 33
        }
      },
      "source": [
        "data.shape"
      ],
      "execution_count": 0,
      "outputs": [
        {
          "output_type": "execute_result",
          "data": {
            "text/plain": [
              "(1499598, 103)"
            ]
          },
          "metadata": {
            "tags": []
          },
          "execution_count": 26
        }
      ]
    },
    {
      "cell_type": "code",
      "metadata": {
        "id": "1X4Icb_Nz4CX",
        "colab_type": "code",
        "outputId": "775b4f4e-4d76-4c26-f3d7-9e3ca273778e",
        "colab": {
          "base_uri": "https://localhost:8080/",
          "height": 150
        }
      },
      "source": [
        "data.columns"
      ],
      "execution_count": 0,
      "outputs": [
        {
          "output_type": "execute_result",
          "data": {
            "text/plain": [
              "Index(['Number_of_Vehicles', 'Number_of_Casualties', 'Speed_limit',\n",
              "       'new_acc_sev', 'time_modified', '1st_Road_Class_2', '1st_Road_Class_3',\n",
              "       '1st_Road_Class_4', '1st_Road_Class_5', '1st_Road_Class_6',\n",
              "       ...\n",
              "       'Year_2011', 'Year_2012', 'Year_2013', 'Year_2014', 'Day_of_Week_2',\n",
              "       'Day_of_Week_3', 'Day_of_Week_4', 'Day_of_Week_5', 'Day_of_Week_6',\n",
              "       'Day_of_Week_7'],\n",
              "      dtype='object', length=103)"
            ]
          },
          "metadata": {
            "tags": []
          },
          "execution_count": 27
        }
      ]
    },
    {
      "cell_type": "code",
      "metadata": {
        "id": "MZwNypQuz7QC",
        "colab_type": "code",
        "outputId": "e188d04a-6ee6-4462-edf5-f7a7f0289592",
        "colab": {
          "base_uri": "https://localhost:8080/",
          "height": 297
        }
      },
      "source": [
        "# normalization\n",
        "# min_max normalization (priority)\n",
        "X = data.iloc[:,1:5]\n",
        "scaler = MinMaxScaler(feature_range=(0, 1))\n",
        "rescaled_values = scaler.fit_transform(X)\n",
        "data.iloc[:,1:5] = rescaled_values\n",
        "data.head()"
      ],
      "execution_count": 0,
      "outputs": [
        {
          "output_type": "execute_result",
          "data": {
            "text/html": [
              "<div>\n",
              "<style scoped>\n",
              "    .dataframe tbody tr th:only-of-type {\n",
              "        vertical-align: middle;\n",
              "    }\n",
              "\n",
              "    .dataframe tbody tr th {\n",
              "        vertical-align: top;\n",
              "    }\n",
              "\n",
              "    .dataframe thead th {\n",
              "        text-align: right;\n",
              "    }\n",
              "</style>\n",
              "<table border=\"1\" class=\"dataframe\">\n",
              "  <thead>\n",
              "    <tr style=\"text-align: right;\">\n",
              "      <th></th>\n",
              "      <th>Number_of_Vehicles</th>\n",
              "      <th>Number_of_Casualties</th>\n",
              "      <th>Speed_limit</th>\n",
              "      <th>new_acc_sev</th>\n",
              "      <th>time_modified</th>\n",
              "      <th>1st_Road_Class_2</th>\n",
              "      <th>1st_Road_Class_3</th>\n",
              "      <th>1st_Road_Class_4</th>\n",
              "      <th>1st_Road_Class_5</th>\n",
              "      <th>1st_Road_Class_6</th>\n",
              "      <th>Road_Type_One way street</th>\n",
              "      <th>Road_Type_Roundabout</th>\n",
              "      <th>Road_Type_Single carriageway</th>\n",
              "      <th>Road_Type_Slip road</th>\n",
              "      <th>Road_Type_Unknown</th>\n",
              "      <th>2nd_Road_Class_1</th>\n",
              "      <th>2nd_Road_Class_2</th>\n",
              "      <th>2nd_Road_Class_3</th>\n",
              "      <th>2nd_Road_Class_4</th>\n",
              "      <th>2nd_Road_Class_5</th>\n",
              "      <th>2nd_Road_Class_6</th>\n",
              "      <th>Pedestrian_Crossing-Human_Control_Control by school crossing patrol</th>\n",
              "      <th>Pedestrian_Crossing-Human_Control_None within 50 metres</th>\n",
              "      <th>Pedestrian_Crossing-Physical_Facilities_Footbridge or subway</th>\n",
              "      <th>Pedestrian_Crossing-Physical_Facilities_No physical crossing within 50 meters</th>\n",
              "      <th>Pedestrian_Crossing-Physical_Facilities_Pedestrian phase at traffic signal junction</th>\n",
              "      <th>Pedestrian_Crossing-Physical_Facilities_Zebra crossing</th>\n",
              "      <th>Pedestrian_Crossing-Physical_Facilities_non-junction pedestrian crossing</th>\n",
              "      <th>Light_Conditions_Darkness: Street lighting unknown</th>\n",
              "      <th>Light_Conditions_Darkness: Street lights present and lit</th>\n",
              "      <th>Light_Conditions_Darkness: Street lights present but unlit</th>\n",
              "      <th>Light_Conditions_Daylight: Street light present</th>\n",
              "      <th>Weather_Conditions_Fine without high winds</th>\n",
              "      <th>Weather_Conditions_Fog or mist</th>\n",
              "      <th>Weather_Conditions_Other</th>\n",
              "      <th>Weather_Conditions_Raining with high winds</th>\n",
              "      <th>Weather_Conditions_Raining without high winds</th>\n",
              "      <th>Weather_Conditions_Snowing with high winds</th>\n",
              "      <th>Weather_Conditions_Snowing without high winds</th>\n",
              "      <th>Weather_Conditions_Unknown</th>\n",
              "      <th>...</th>\n",
              "      <th>month_from_date_6</th>\n",
              "      <th>month_from_date_7</th>\n",
              "      <th>month_from_date_8</th>\n",
              "      <th>month_from_date_9</th>\n",
              "      <th>month_from_date_10</th>\n",
              "      <th>month_from_date_11</th>\n",
              "      <th>month_from_date_12</th>\n",
              "      <th>month_from_date_13</th>\n",
              "      <th>month_from_date_14</th>\n",
              "      <th>month_from_date_15</th>\n",
              "      <th>month_from_date_16</th>\n",
              "      <th>month_from_date_17</th>\n",
              "      <th>month_from_date_18</th>\n",
              "      <th>month_from_date_19</th>\n",
              "      <th>month_from_date_20</th>\n",
              "      <th>month_from_date_21</th>\n",
              "      <th>month_from_date_22</th>\n",
              "      <th>month_from_date_23</th>\n",
              "      <th>month_from_date_24</th>\n",
              "      <th>month_from_date_25</th>\n",
              "      <th>month_from_date_26</th>\n",
              "      <th>month_from_date_27</th>\n",
              "      <th>month_from_date_28</th>\n",
              "      <th>month_from_date_29</th>\n",
              "      <th>month_from_date_30</th>\n",
              "      <th>month_from_date_31</th>\n",
              "      <th>Year_2006</th>\n",
              "      <th>Year_2007</th>\n",
              "      <th>Year_2009</th>\n",
              "      <th>Year_2010</th>\n",
              "      <th>Year_2011</th>\n",
              "      <th>Year_2012</th>\n",
              "      <th>Year_2013</th>\n",
              "      <th>Year_2014</th>\n",
              "      <th>Day_of_Week_2</th>\n",
              "      <th>Day_of_Week_3</th>\n",
              "      <th>Day_of_Week_4</th>\n",
              "      <th>Day_of_Week_5</th>\n",
              "      <th>Day_of_Week_6</th>\n",
              "      <th>Day_of_Week_7</th>\n",
              "    </tr>\n",
              "  </thead>\n",
              "  <tbody>\n",
              "    <tr>\n",
              "      <th>0</th>\n",
              "      <td>1</td>\n",
              "      <td>0.0</td>\n",
              "      <td>0.333333</td>\n",
              "      <td>0.0</td>\n",
              "      <td>0.737896</td>\n",
              "      <td>0</td>\n",
              "      <td>1</td>\n",
              "      <td>0</td>\n",
              "      <td>0</td>\n",
              "      <td>0</td>\n",
              "      <td>0</td>\n",
              "      <td>0</td>\n",
              "      <td>1</td>\n",
              "      <td>0</td>\n",
              "      <td>0</td>\n",
              "      <td>0</td>\n",
              "      <td>0</td>\n",
              "      <td>0</td>\n",
              "      <td>0</td>\n",
              "      <td>0</td>\n",
              "      <td>0</td>\n",
              "      <td>0</td>\n",
              "      <td>1</td>\n",
              "      <td>0</td>\n",
              "      <td>0</td>\n",
              "      <td>0</td>\n",
              "      <td>1</td>\n",
              "      <td>0</td>\n",
              "      <td>0</td>\n",
              "      <td>0</td>\n",
              "      <td>0</td>\n",
              "      <td>1</td>\n",
              "      <td>0</td>\n",
              "      <td>0</td>\n",
              "      <td>0</td>\n",
              "      <td>0</td>\n",
              "      <td>1</td>\n",
              "      <td>0</td>\n",
              "      <td>0</td>\n",
              "      <td>0</td>\n",
              "      <td>...</td>\n",
              "      <td>0</td>\n",
              "      <td>0</td>\n",
              "      <td>0</td>\n",
              "      <td>0</td>\n",
              "      <td>0</td>\n",
              "      <td>0</td>\n",
              "      <td>0</td>\n",
              "      <td>0</td>\n",
              "      <td>0</td>\n",
              "      <td>0</td>\n",
              "      <td>0</td>\n",
              "      <td>0</td>\n",
              "      <td>0</td>\n",
              "      <td>0</td>\n",
              "      <td>0</td>\n",
              "      <td>0</td>\n",
              "      <td>0</td>\n",
              "      <td>0</td>\n",
              "      <td>0</td>\n",
              "      <td>0</td>\n",
              "      <td>0</td>\n",
              "      <td>0</td>\n",
              "      <td>0</td>\n",
              "      <td>0</td>\n",
              "      <td>0</td>\n",
              "      <td>0</td>\n",
              "      <td>0</td>\n",
              "      <td>0</td>\n",
              "      <td>0</td>\n",
              "      <td>0</td>\n",
              "      <td>0</td>\n",
              "      <td>0</td>\n",
              "      <td>0</td>\n",
              "      <td>0</td>\n",
              "      <td>0</td>\n",
              "      <td>1</td>\n",
              "      <td>0</td>\n",
              "      <td>0</td>\n",
              "      <td>0</td>\n",
              "      <td>0</td>\n",
              "    </tr>\n",
              "    <tr>\n",
              "      <th>1</th>\n",
              "      <td>1</td>\n",
              "      <td>0.0</td>\n",
              "      <td>0.333333</td>\n",
              "      <td>1.0</td>\n",
              "      <td>0.733723</td>\n",
              "      <td>0</td>\n",
              "      <td>0</td>\n",
              "      <td>1</td>\n",
              "      <td>0</td>\n",
              "      <td>0</td>\n",
              "      <td>0</td>\n",
              "      <td>0</td>\n",
              "      <td>0</td>\n",
              "      <td>0</td>\n",
              "      <td>0</td>\n",
              "      <td>0</td>\n",
              "      <td>0</td>\n",
              "      <td>0</td>\n",
              "      <td>0</td>\n",
              "      <td>1</td>\n",
              "      <td>0</td>\n",
              "      <td>0</td>\n",
              "      <td>1</td>\n",
              "      <td>0</td>\n",
              "      <td>0</td>\n",
              "      <td>1</td>\n",
              "      <td>0</td>\n",
              "      <td>0</td>\n",
              "      <td>0</td>\n",
              "      <td>1</td>\n",
              "      <td>0</td>\n",
              "      <td>0</td>\n",
              "      <td>1</td>\n",
              "      <td>0</td>\n",
              "      <td>0</td>\n",
              "      <td>0</td>\n",
              "      <td>0</td>\n",
              "      <td>0</td>\n",
              "      <td>0</td>\n",
              "      <td>0</td>\n",
              "      <td>...</td>\n",
              "      <td>0</td>\n",
              "      <td>0</td>\n",
              "      <td>0</td>\n",
              "      <td>0</td>\n",
              "      <td>0</td>\n",
              "      <td>0</td>\n",
              "      <td>0</td>\n",
              "      <td>0</td>\n",
              "      <td>0</td>\n",
              "      <td>0</td>\n",
              "      <td>0</td>\n",
              "      <td>0</td>\n",
              "      <td>0</td>\n",
              "      <td>0</td>\n",
              "      <td>0</td>\n",
              "      <td>0</td>\n",
              "      <td>0</td>\n",
              "      <td>0</td>\n",
              "      <td>0</td>\n",
              "      <td>0</td>\n",
              "      <td>0</td>\n",
              "      <td>0</td>\n",
              "      <td>0</td>\n",
              "      <td>0</td>\n",
              "      <td>0</td>\n",
              "      <td>0</td>\n",
              "      <td>0</td>\n",
              "      <td>0</td>\n",
              "      <td>0</td>\n",
              "      <td>0</td>\n",
              "      <td>0</td>\n",
              "      <td>0</td>\n",
              "      <td>0</td>\n",
              "      <td>0</td>\n",
              "      <td>0</td>\n",
              "      <td>0</td>\n",
              "      <td>1</td>\n",
              "      <td>0</td>\n",
              "      <td>0</td>\n",
              "      <td>0</td>\n",
              "    </tr>\n",
              "    <tr>\n",
              "      <th>2</th>\n",
              "      <td>2</td>\n",
              "      <td>0.0</td>\n",
              "      <td>0.333333</td>\n",
              "      <td>1.0</td>\n",
              "      <td>0.009599</td>\n",
              "      <td>0</td>\n",
              "      <td>0</td>\n",
              "      <td>0</td>\n",
              "      <td>1</td>\n",
              "      <td>0</td>\n",
              "      <td>0</td>\n",
              "      <td>0</td>\n",
              "      <td>1</td>\n",
              "      <td>0</td>\n",
              "      <td>0</td>\n",
              "      <td>0</td>\n",
              "      <td>0</td>\n",
              "      <td>0</td>\n",
              "      <td>0</td>\n",
              "      <td>0</td>\n",
              "      <td>0</td>\n",
              "      <td>0</td>\n",
              "      <td>1</td>\n",
              "      <td>0</td>\n",
              "      <td>1</td>\n",
              "      <td>0</td>\n",
              "      <td>0</td>\n",
              "      <td>0</td>\n",
              "      <td>0</td>\n",
              "      <td>1</td>\n",
              "      <td>0</td>\n",
              "      <td>0</td>\n",
              "      <td>1</td>\n",
              "      <td>0</td>\n",
              "      <td>0</td>\n",
              "      <td>0</td>\n",
              "      <td>0</td>\n",
              "      <td>0</td>\n",
              "      <td>0</td>\n",
              "      <td>0</td>\n",
              "      <td>...</td>\n",
              "      <td>1</td>\n",
              "      <td>0</td>\n",
              "      <td>0</td>\n",
              "      <td>0</td>\n",
              "      <td>0</td>\n",
              "      <td>0</td>\n",
              "      <td>0</td>\n",
              "      <td>0</td>\n",
              "      <td>0</td>\n",
              "      <td>0</td>\n",
              "      <td>0</td>\n",
              "      <td>0</td>\n",
              "      <td>0</td>\n",
              "      <td>0</td>\n",
              "      <td>0</td>\n",
              "      <td>0</td>\n",
              "      <td>0</td>\n",
              "      <td>0</td>\n",
              "      <td>0</td>\n",
              "      <td>0</td>\n",
              "      <td>0</td>\n",
              "      <td>0</td>\n",
              "      <td>0</td>\n",
              "      <td>0</td>\n",
              "      <td>0</td>\n",
              "      <td>0</td>\n",
              "      <td>0</td>\n",
              "      <td>0</td>\n",
              "      <td>0</td>\n",
              "      <td>0</td>\n",
              "      <td>0</td>\n",
              "      <td>0</td>\n",
              "      <td>0</td>\n",
              "      <td>0</td>\n",
              "      <td>0</td>\n",
              "      <td>0</td>\n",
              "      <td>0</td>\n",
              "      <td>1</td>\n",
              "      <td>0</td>\n",
              "      <td>0</td>\n",
              "    </tr>\n",
              "    <tr>\n",
              "      <th>3</th>\n",
              "      <td>1</td>\n",
              "      <td>0.0</td>\n",
              "      <td>0.333333</td>\n",
              "      <td>1.0</td>\n",
              "      <td>0.440735</td>\n",
              "      <td>0</td>\n",
              "      <td>1</td>\n",
              "      <td>0</td>\n",
              "      <td>0</td>\n",
              "      <td>0</td>\n",
              "      <td>0</td>\n",
              "      <td>0</td>\n",
              "      <td>1</td>\n",
              "      <td>0</td>\n",
              "      <td>0</td>\n",
              "      <td>0</td>\n",
              "      <td>0</td>\n",
              "      <td>0</td>\n",
              "      <td>0</td>\n",
              "      <td>0</td>\n",
              "      <td>0</td>\n",
              "      <td>0</td>\n",
              "      <td>1</td>\n",
              "      <td>0</td>\n",
              "      <td>1</td>\n",
              "      <td>0</td>\n",
              "      <td>0</td>\n",
              "      <td>0</td>\n",
              "      <td>0</td>\n",
              "      <td>0</td>\n",
              "      <td>0</td>\n",
              "      <td>1</td>\n",
              "      <td>1</td>\n",
              "      <td>0</td>\n",
              "      <td>0</td>\n",
              "      <td>0</td>\n",
              "      <td>0</td>\n",
              "      <td>0</td>\n",
              "      <td>0</td>\n",
              "      <td>0</td>\n",
              "      <td>...</td>\n",
              "      <td>0</td>\n",
              "      <td>1</td>\n",
              "      <td>0</td>\n",
              "      <td>0</td>\n",
              "      <td>0</td>\n",
              "      <td>0</td>\n",
              "      <td>0</td>\n",
              "      <td>0</td>\n",
              "      <td>0</td>\n",
              "      <td>0</td>\n",
              "      <td>0</td>\n",
              "      <td>0</td>\n",
              "      <td>0</td>\n",
              "      <td>0</td>\n",
              "      <td>0</td>\n",
              "      <td>0</td>\n",
              "      <td>0</td>\n",
              "      <td>0</td>\n",
              "      <td>0</td>\n",
              "      <td>0</td>\n",
              "      <td>0</td>\n",
              "      <td>0</td>\n",
              "      <td>0</td>\n",
              "      <td>0</td>\n",
              "      <td>0</td>\n",
              "      <td>0</td>\n",
              "      <td>0</td>\n",
              "      <td>0</td>\n",
              "      <td>0</td>\n",
              "      <td>0</td>\n",
              "      <td>0</td>\n",
              "      <td>0</td>\n",
              "      <td>0</td>\n",
              "      <td>0</td>\n",
              "      <td>0</td>\n",
              "      <td>0</td>\n",
              "      <td>0</td>\n",
              "      <td>0</td>\n",
              "      <td>1</td>\n",
              "      <td>0</td>\n",
              "    </tr>\n",
              "    <tr>\n",
              "      <th>4</th>\n",
              "      <td>1</td>\n",
              "      <td>0.0</td>\n",
              "      <td>0.333333</td>\n",
              "      <td>1.0</td>\n",
              "      <td>0.884808</td>\n",
              "      <td>0</td>\n",
              "      <td>0</td>\n",
              "      <td>0</td>\n",
              "      <td>0</td>\n",
              "      <td>1</td>\n",
              "      <td>0</td>\n",
              "      <td>0</td>\n",
              "      <td>1</td>\n",
              "      <td>0</td>\n",
              "      <td>0</td>\n",
              "      <td>0</td>\n",
              "      <td>0</td>\n",
              "      <td>0</td>\n",
              "      <td>0</td>\n",
              "      <td>0</td>\n",
              "      <td>0</td>\n",
              "      <td>0</td>\n",
              "      <td>1</td>\n",
              "      <td>0</td>\n",
              "      <td>1</td>\n",
              "      <td>0</td>\n",
              "      <td>0</td>\n",
              "      <td>0</td>\n",
              "      <td>1</td>\n",
              "      <td>0</td>\n",
              "      <td>0</td>\n",
              "      <td>0</td>\n",
              "      <td>1</td>\n",
              "      <td>0</td>\n",
              "      <td>0</td>\n",
              "      <td>0</td>\n",
              "      <td>0</td>\n",
              "      <td>0</td>\n",
              "      <td>0</td>\n",
              "      <td>0</td>\n",
              "      <td>...</td>\n",
              "      <td>0</td>\n",
              "      <td>0</td>\n",
              "      <td>0</td>\n",
              "      <td>0</td>\n",
              "      <td>1</td>\n",
              "      <td>0</td>\n",
              "      <td>0</td>\n",
              "      <td>0</td>\n",
              "      <td>0</td>\n",
              "      <td>0</td>\n",
              "      <td>0</td>\n",
              "      <td>0</td>\n",
              "      <td>0</td>\n",
              "      <td>0</td>\n",
              "      <td>0</td>\n",
              "      <td>0</td>\n",
              "      <td>0</td>\n",
              "      <td>0</td>\n",
              "      <td>0</td>\n",
              "      <td>0</td>\n",
              "      <td>0</td>\n",
              "      <td>0</td>\n",
              "      <td>0</td>\n",
              "      <td>0</td>\n",
              "      <td>0</td>\n",
              "      <td>0</td>\n",
              "      <td>0</td>\n",
              "      <td>0</td>\n",
              "      <td>0</td>\n",
              "      <td>0</td>\n",
              "      <td>0</td>\n",
              "      <td>0</td>\n",
              "      <td>0</td>\n",
              "      <td>0</td>\n",
              "      <td>1</td>\n",
              "      <td>0</td>\n",
              "      <td>0</td>\n",
              "      <td>0</td>\n",
              "      <td>0</td>\n",
              "      <td>0</td>\n",
              "    </tr>\n",
              "  </tbody>\n",
              "</table>\n",
              "<p>5 rows × 103 columns</p>\n",
              "</div>"
            ],
            "text/plain": [
              "   Number_of_Vehicles  Number_of_Casualties  ...  Day_of_Week_6  Day_of_Week_7\n",
              "0                   1                   0.0  ...              0              0\n",
              "1                   1                   0.0  ...              0              0\n",
              "2                   2                   0.0  ...              0              0\n",
              "3                   1                   0.0  ...              1              0\n",
              "4                   1                   0.0  ...              0              0\n",
              "\n",
              "[5 rows x 103 columns]"
            ]
          },
          "metadata": {
            "tags": []
          },
          "execution_count": 28
        }
      ]
    },
    {
      "cell_type": "code",
      "metadata": {
        "id": "nXDiU5fZ0AdU",
        "colab_type": "code",
        "outputId": "7dc35e6f-12b7-45ed-9753-d535808dcf18",
        "colab": {
          "base_uri": "https://localhost:8080/",
          "height": 297
        }
      },
      "source": [
        "# shuffle the data to get rid of the 'year' trend\n",
        "\n",
        "model_data = shuffle(data.iloc[:,:], random_state=123).reset_index(drop=True)\n",
        "model_data.head()"
      ],
      "execution_count": 0,
      "outputs": [
        {
          "output_type": "execute_result",
          "data": {
            "text/html": [
              "<div>\n",
              "<style scoped>\n",
              "    .dataframe tbody tr th:only-of-type {\n",
              "        vertical-align: middle;\n",
              "    }\n",
              "\n",
              "    .dataframe tbody tr th {\n",
              "        vertical-align: top;\n",
              "    }\n",
              "\n",
              "    .dataframe thead th {\n",
              "        text-align: right;\n",
              "    }\n",
              "</style>\n",
              "<table border=\"1\" class=\"dataframe\">\n",
              "  <thead>\n",
              "    <tr style=\"text-align: right;\">\n",
              "      <th></th>\n",
              "      <th>Number_of_Vehicles</th>\n",
              "      <th>Number_of_Casualties</th>\n",
              "      <th>Speed_limit</th>\n",
              "      <th>new_acc_sev</th>\n",
              "      <th>time_modified</th>\n",
              "      <th>1st_Road_Class_2</th>\n",
              "      <th>1st_Road_Class_3</th>\n",
              "      <th>1st_Road_Class_4</th>\n",
              "      <th>1st_Road_Class_5</th>\n",
              "      <th>1st_Road_Class_6</th>\n",
              "      <th>Road_Type_One way street</th>\n",
              "      <th>Road_Type_Roundabout</th>\n",
              "      <th>Road_Type_Single carriageway</th>\n",
              "      <th>Road_Type_Slip road</th>\n",
              "      <th>Road_Type_Unknown</th>\n",
              "      <th>2nd_Road_Class_1</th>\n",
              "      <th>2nd_Road_Class_2</th>\n",
              "      <th>2nd_Road_Class_3</th>\n",
              "      <th>2nd_Road_Class_4</th>\n",
              "      <th>2nd_Road_Class_5</th>\n",
              "      <th>2nd_Road_Class_6</th>\n",
              "      <th>Pedestrian_Crossing-Human_Control_Control by school crossing patrol</th>\n",
              "      <th>Pedestrian_Crossing-Human_Control_None within 50 metres</th>\n",
              "      <th>Pedestrian_Crossing-Physical_Facilities_Footbridge or subway</th>\n",
              "      <th>Pedestrian_Crossing-Physical_Facilities_No physical crossing within 50 meters</th>\n",
              "      <th>Pedestrian_Crossing-Physical_Facilities_Pedestrian phase at traffic signal junction</th>\n",
              "      <th>Pedestrian_Crossing-Physical_Facilities_Zebra crossing</th>\n",
              "      <th>Pedestrian_Crossing-Physical_Facilities_non-junction pedestrian crossing</th>\n",
              "      <th>Light_Conditions_Darkness: Street lighting unknown</th>\n",
              "      <th>Light_Conditions_Darkness: Street lights present and lit</th>\n",
              "      <th>Light_Conditions_Darkness: Street lights present but unlit</th>\n",
              "      <th>Light_Conditions_Daylight: Street light present</th>\n",
              "      <th>Weather_Conditions_Fine without high winds</th>\n",
              "      <th>Weather_Conditions_Fog or mist</th>\n",
              "      <th>Weather_Conditions_Other</th>\n",
              "      <th>Weather_Conditions_Raining with high winds</th>\n",
              "      <th>Weather_Conditions_Raining without high winds</th>\n",
              "      <th>Weather_Conditions_Snowing with high winds</th>\n",
              "      <th>Weather_Conditions_Snowing without high winds</th>\n",
              "      <th>Weather_Conditions_Unknown</th>\n",
              "      <th>...</th>\n",
              "      <th>month_from_date_6</th>\n",
              "      <th>month_from_date_7</th>\n",
              "      <th>month_from_date_8</th>\n",
              "      <th>month_from_date_9</th>\n",
              "      <th>month_from_date_10</th>\n",
              "      <th>month_from_date_11</th>\n",
              "      <th>month_from_date_12</th>\n",
              "      <th>month_from_date_13</th>\n",
              "      <th>month_from_date_14</th>\n",
              "      <th>month_from_date_15</th>\n",
              "      <th>month_from_date_16</th>\n",
              "      <th>month_from_date_17</th>\n",
              "      <th>month_from_date_18</th>\n",
              "      <th>month_from_date_19</th>\n",
              "      <th>month_from_date_20</th>\n",
              "      <th>month_from_date_21</th>\n",
              "      <th>month_from_date_22</th>\n",
              "      <th>month_from_date_23</th>\n",
              "      <th>month_from_date_24</th>\n",
              "      <th>month_from_date_25</th>\n",
              "      <th>month_from_date_26</th>\n",
              "      <th>month_from_date_27</th>\n",
              "      <th>month_from_date_28</th>\n",
              "      <th>month_from_date_29</th>\n",
              "      <th>month_from_date_30</th>\n",
              "      <th>month_from_date_31</th>\n",
              "      <th>Year_2006</th>\n",
              "      <th>Year_2007</th>\n",
              "      <th>Year_2009</th>\n",
              "      <th>Year_2010</th>\n",
              "      <th>Year_2011</th>\n",
              "      <th>Year_2012</th>\n",
              "      <th>Year_2013</th>\n",
              "      <th>Year_2014</th>\n",
              "      <th>Day_of_Week_2</th>\n",
              "      <th>Day_of_Week_3</th>\n",
              "      <th>Day_of_Week_4</th>\n",
              "      <th>Day_of_Week_5</th>\n",
              "      <th>Day_of_Week_6</th>\n",
              "      <th>Day_of_Week_7</th>\n",
              "    </tr>\n",
              "  </thead>\n",
              "  <tbody>\n",
              "    <tr>\n",
              "      <th>0</th>\n",
              "      <td>2</td>\n",
              "      <td>0.032609</td>\n",
              "      <td>0.333333</td>\n",
              "      <td>1.0</td>\n",
              "      <td>0.409432</td>\n",
              "      <td>0</td>\n",
              "      <td>0</td>\n",
              "      <td>0</td>\n",
              "      <td>1</td>\n",
              "      <td>0</td>\n",
              "      <td>0</td>\n",
              "      <td>0</td>\n",
              "      <td>1</td>\n",
              "      <td>0</td>\n",
              "      <td>0</td>\n",
              "      <td>0</td>\n",
              "      <td>0</td>\n",
              "      <td>0</td>\n",
              "      <td>0</td>\n",
              "      <td>0</td>\n",
              "      <td>0</td>\n",
              "      <td>0</td>\n",
              "      <td>1</td>\n",
              "      <td>0</td>\n",
              "      <td>1</td>\n",
              "      <td>0</td>\n",
              "      <td>0</td>\n",
              "      <td>0</td>\n",
              "      <td>0</td>\n",
              "      <td>0</td>\n",
              "      <td>0</td>\n",
              "      <td>1</td>\n",
              "      <td>1</td>\n",
              "      <td>0</td>\n",
              "      <td>0</td>\n",
              "      <td>0</td>\n",
              "      <td>0</td>\n",
              "      <td>0</td>\n",
              "      <td>0</td>\n",
              "      <td>0</td>\n",
              "      <td>...</td>\n",
              "      <td>0</td>\n",
              "      <td>1</td>\n",
              "      <td>0</td>\n",
              "      <td>0</td>\n",
              "      <td>0</td>\n",
              "      <td>0</td>\n",
              "      <td>0</td>\n",
              "      <td>0</td>\n",
              "      <td>0</td>\n",
              "      <td>0</td>\n",
              "      <td>0</td>\n",
              "      <td>0</td>\n",
              "      <td>0</td>\n",
              "      <td>0</td>\n",
              "      <td>0</td>\n",
              "      <td>0</td>\n",
              "      <td>0</td>\n",
              "      <td>0</td>\n",
              "      <td>0</td>\n",
              "      <td>0</td>\n",
              "      <td>0</td>\n",
              "      <td>0</td>\n",
              "      <td>0</td>\n",
              "      <td>0</td>\n",
              "      <td>0</td>\n",
              "      <td>0</td>\n",
              "      <td>0</td>\n",
              "      <td>0</td>\n",
              "      <td>0</td>\n",
              "      <td>0</td>\n",
              "      <td>0</td>\n",
              "      <td>0</td>\n",
              "      <td>0</td>\n",
              "      <td>1</td>\n",
              "      <td>0</td>\n",
              "      <td>0</td>\n",
              "      <td>0</td>\n",
              "      <td>0</td>\n",
              "      <td>0</td>\n",
              "      <td>1</td>\n",
              "    </tr>\n",
              "    <tr>\n",
              "      <th>1</th>\n",
              "      <td>2</td>\n",
              "      <td>0.000000</td>\n",
              "      <td>0.333333</td>\n",
              "      <td>0.0</td>\n",
              "      <td>0.608514</td>\n",
              "      <td>0</td>\n",
              "      <td>0</td>\n",
              "      <td>0</td>\n",
              "      <td>0</td>\n",
              "      <td>1</td>\n",
              "      <td>0</td>\n",
              "      <td>0</td>\n",
              "      <td>1</td>\n",
              "      <td>0</td>\n",
              "      <td>0</td>\n",
              "      <td>0</td>\n",
              "      <td>0</td>\n",
              "      <td>0</td>\n",
              "      <td>0</td>\n",
              "      <td>0</td>\n",
              "      <td>0</td>\n",
              "      <td>0</td>\n",
              "      <td>1</td>\n",
              "      <td>0</td>\n",
              "      <td>1</td>\n",
              "      <td>0</td>\n",
              "      <td>0</td>\n",
              "      <td>0</td>\n",
              "      <td>0</td>\n",
              "      <td>0</td>\n",
              "      <td>0</td>\n",
              "      <td>1</td>\n",
              "      <td>1</td>\n",
              "      <td>0</td>\n",
              "      <td>0</td>\n",
              "      <td>0</td>\n",
              "      <td>0</td>\n",
              "      <td>0</td>\n",
              "      <td>0</td>\n",
              "      <td>0</td>\n",
              "      <td>...</td>\n",
              "      <td>0</td>\n",
              "      <td>0</td>\n",
              "      <td>0</td>\n",
              "      <td>0</td>\n",
              "      <td>0</td>\n",
              "      <td>1</td>\n",
              "      <td>0</td>\n",
              "      <td>0</td>\n",
              "      <td>0</td>\n",
              "      <td>0</td>\n",
              "      <td>0</td>\n",
              "      <td>0</td>\n",
              "      <td>0</td>\n",
              "      <td>0</td>\n",
              "      <td>0</td>\n",
              "      <td>0</td>\n",
              "      <td>0</td>\n",
              "      <td>0</td>\n",
              "      <td>0</td>\n",
              "      <td>0</td>\n",
              "      <td>0</td>\n",
              "      <td>0</td>\n",
              "      <td>0</td>\n",
              "      <td>0</td>\n",
              "      <td>0</td>\n",
              "      <td>0</td>\n",
              "      <td>1</td>\n",
              "      <td>0</td>\n",
              "      <td>0</td>\n",
              "      <td>0</td>\n",
              "      <td>0</td>\n",
              "      <td>0</td>\n",
              "      <td>0</td>\n",
              "      <td>0</td>\n",
              "      <td>0</td>\n",
              "      <td>0</td>\n",
              "      <td>0</td>\n",
              "      <td>0</td>\n",
              "      <td>0</td>\n",
              "      <td>1</td>\n",
              "    </tr>\n",
              "    <tr>\n",
              "      <th>2</th>\n",
              "      <td>2</td>\n",
              "      <td>0.000000</td>\n",
              "      <td>0.500000</td>\n",
              "      <td>1.0</td>\n",
              "      <td>0.792154</td>\n",
              "      <td>0</td>\n",
              "      <td>1</td>\n",
              "      <td>0</td>\n",
              "      <td>0</td>\n",
              "      <td>0</td>\n",
              "      <td>0</td>\n",
              "      <td>0</td>\n",
              "      <td>0</td>\n",
              "      <td>0</td>\n",
              "      <td>0</td>\n",
              "      <td>0</td>\n",
              "      <td>0</td>\n",
              "      <td>1</td>\n",
              "      <td>0</td>\n",
              "      <td>0</td>\n",
              "      <td>0</td>\n",
              "      <td>0</td>\n",
              "      <td>1</td>\n",
              "      <td>0</td>\n",
              "      <td>0</td>\n",
              "      <td>0</td>\n",
              "      <td>0</td>\n",
              "      <td>0</td>\n",
              "      <td>0</td>\n",
              "      <td>0</td>\n",
              "      <td>0</td>\n",
              "      <td>1</td>\n",
              "      <td>0</td>\n",
              "      <td>0</td>\n",
              "      <td>0</td>\n",
              "      <td>0</td>\n",
              "      <td>1</td>\n",
              "      <td>0</td>\n",
              "      <td>0</td>\n",
              "      <td>0</td>\n",
              "      <td>...</td>\n",
              "      <td>0</td>\n",
              "      <td>0</td>\n",
              "      <td>0</td>\n",
              "      <td>0</td>\n",
              "      <td>0</td>\n",
              "      <td>0</td>\n",
              "      <td>0</td>\n",
              "      <td>0</td>\n",
              "      <td>0</td>\n",
              "      <td>0</td>\n",
              "      <td>0</td>\n",
              "      <td>0</td>\n",
              "      <td>0</td>\n",
              "      <td>0</td>\n",
              "      <td>0</td>\n",
              "      <td>0</td>\n",
              "      <td>0</td>\n",
              "      <td>0</td>\n",
              "      <td>0</td>\n",
              "      <td>0</td>\n",
              "      <td>0</td>\n",
              "      <td>0</td>\n",
              "      <td>0</td>\n",
              "      <td>0</td>\n",
              "      <td>1</td>\n",
              "      <td>0</td>\n",
              "      <td>0</td>\n",
              "      <td>0</td>\n",
              "      <td>0</td>\n",
              "      <td>1</td>\n",
              "      <td>0</td>\n",
              "      <td>0</td>\n",
              "      <td>0</td>\n",
              "      <td>0</td>\n",
              "      <td>0</td>\n",
              "      <td>1</td>\n",
              "      <td>0</td>\n",
              "      <td>0</td>\n",
              "      <td>0</td>\n",
              "      <td>0</td>\n",
              "    </tr>\n",
              "    <tr>\n",
              "      <th>3</th>\n",
              "      <td>2</td>\n",
              "      <td>0.000000</td>\n",
              "      <td>0.333333</td>\n",
              "      <td>1.0</td>\n",
              "      <td>0.767947</td>\n",
              "      <td>0</td>\n",
              "      <td>1</td>\n",
              "      <td>0</td>\n",
              "      <td>0</td>\n",
              "      <td>0</td>\n",
              "      <td>0</td>\n",
              "      <td>0</td>\n",
              "      <td>1</td>\n",
              "      <td>0</td>\n",
              "      <td>0</td>\n",
              "      <td>0</td>\n",
              "      <td>0</td>\n",
              "      <td>0</td>\n",
              "      <td>0</td>\n",
              "      <td>0</td>\n",
              "      <td>0</td>\n",
              "      <td>0</td>\n",
              "      <td>1</td>\n",
              "      <td>0</td>\n",
              "      <td>0</td>\n",
              "      <td>0</td>\n",
              "      <td>1</td>\n",
              "      <td>0</td>\n",
              "      <td>0</td>\n",
              "      <td>0</td>\n",
              "      <td>0</td>\n",
              "      <td>1</td>\n",
              "      <td>1</td>\n",
              "      <td>0</td>\n",
              "      <td>0</td>\n",
              "      <td>0</td>\n",
              "      <td>0</td>\n",
              "      <td>0</td>\n",
              "      <td>0</td>\n",
              "      <td>0</td>\n",
              "      <td>...</td>\n",
              "      <td>0</td>\n",
              "      <td>0</td>\n",
              "      <td>0</td>\n",
              "      <td>0</td>\n",
              "      <td>0</td>\n",
              "      <td>1</td>\n",
              "      <td>0</td>\n",
              "      <td>0</td>\n",
              "      <td>0</td>\n",
              "      <td>0</td>\n",
              "      <td>0</td>\n",
              "      <td>0</td>\n",
              "      <td>0</td>\n",
              "      <td>0</td>\n",
              "      <td>0</td>\n",
              "      <td>0</td>\n",
              "      <td>0</td>\n",
              "      <td>0</td>\n",
              "      <td>0</td>\n",
              "      <td>0</td>\n",
              "      <td>0</td>\n",
              "      <td>0</td>\n",
              "      <td>0</td>\n",
              "      <td>0</td>\n",
              "      <td>0</td>\n",
              "      <td>0</td>\n",
              "      <td>0</td>\n",
              "      <td>0</td>\n",
              "      <td>0</td>\n",
              "      <td>0</td>\n",
              "      <td>0</td>\n",
              "      <td>1</td>\n",
              "      <td>0</td>\n",
              "      <td>0</td>\n",
              "      <td>0</td>\n",
              "      <td>0</td>\n",
              "      <td>1</td>\n",
              "      <td>0</td>\n",
              "      <td>0</td>\n",
              "      <td>0</td>\n",
              "    </tr>\n",
              "    <tr>\n",
              "      <th>4</th>\n",
              "      <td>2</td>\n",
              "      <td>0.000000</td>\n",
              "      <td>0.333333</td>\n",
              "      <td>0.0</td>\n",
              "      <td>0.502922</td>\n",
              "      <td>0</td>\n",
              "      <td>1</td>\n",
              "      <td>0</td>\n",
              "      <td>0</td>\n",
              "      <td>0</td>\n",
              "      <td>0</td>\n",
              "      <td>0</td>\n",
              "      <td>1</td>\n",
              "      <td>0</td>\n",
              "      <td>0</td>\n",
              "      <td>0</td>\n",
              "      <td>0</td>\n",
              "      <td>0</td>\n",
              "      <td>0</td>\n",
              "      <td>0</td>\n",
              "      <td>0</td>\n",
              "      <td>0</td>\n",
              "      <td>1</td>\n",
              "      <td>0</td>\n",
              "      <td>1</td>\n",
              "      <td>0</td>\n",
              "      <td>0</td>\n",
              "      <td>0</td>\n",
              "      <td>0</td>\n",
              "      <td>0</td>\n",
              "      <td>0</td>\n",
              "      <td>1</td>\n",
              "      <td>1</td>\n",
              "      <td>0</td>\n",
              "      <td>0</td>\n",
              "      <td>0</td>\n",
              "      <td>0</td>\n",
              "      <td>0</td>\n",
              "      <td>0</td>\n",
              "      <td>0</td>\n",
              "      <td>...</td>\n",
              "      <td>0</td>\n",
              "      <td>0</td>\n",
              "      <td>0</td>\n",
              "      <td>0</td>\n",
              "      <td>0</td>\n",
              "      <td>0</td>\n",
              "      <td>1</td>\n",
              "      <td>0</td>\n",
              "      <td>0</td>\n",
              "      <td>0</td>\n",
              "      <td>0</td>\n",
              "      <td>0</td>\n",
              "      <td>0</td>\n",
              "      <td>0</td>\n",
              "      <td>0</td>\n",
              "      <td>0</td>\n",
              "      <td>0</td>\n",
              "      <td>0</td>\n",
              "      <td>0</td>\n",
              "      <td>0</td>\n",
              "      <td>0</td>\n",
              "      <td>0</td>\n",
              "      <td>0</td>\n",
              "      <td>0</td>\n",
              "      <td>0</td>\n",
              "      <td>0</td>\n",
              "      <td>0</td>\n",
              "      <td>0</td>\n",
              "      <td>0</td>\n",
              "      <td>0</td>\n",
              "      <td>0</td>\n",
              "      <td>0</td>\n",
              "      <td>0</td>\n",
              "      <td>0</td>\n",
              "      <td>0</td>\n",
              "      <td>0</td>\n",
              "      <td>1</td>\n",
              "      <td>0</td>\n",
              "      <td>0</td>\n",
              "      <td>0</td>\n",
              "    </tr>\n",
              "  </tbody>\n",
              "</table>\n",
              "<p>5 rows × 103 columns</p>\n",
              "</div>"
            ],
            "text/plain": [
              "   Number_of_Vehicles  Number_of_Casualties  ...  Day_of_Week_6  Day_of_Week_7\n",
              "0                   2              0.032609  ...              0              1\n",
              "1                   2              0.000000  ...              0              1\n",
              "2                   2              0.000000  ...              0              0\n",
              "3                   2              0.000000  ...              0              0\n",
              "4                   2              0.000000  ...              0              0\n",
              "\n",
              "[5 rows x 103 columns]"
            ]
          },
          "metadata": {
            "tags": []
          },
          "execution_count": 29
        }
      ]
    },
    {
      "cell_type": "markdown",
      "metadata": {
        "id": "Dt5wI1scn7FM",
        "colab_type": "text"
      },
      "source": [
        "Data Modelling\n"
      ]
    },
    {
      "cell_type": "code",
      "metadata": {
        "id": "Fn0d4yC_0Gcs",
        "colab_type": "code",
        "outputId": "b7a2e687-a6a2-4137-9301-9f2ca528d42b",
        "colab": {
          "base_uri": "https://localhost:8080/",
          "height": 50
        }
      },
      "source": [
        "x = model_data.drop([\"new_acc_sev\"], axis=1)\n",
        "y = model_data[\"new_acc_sev\"]\n",
        "\n",
        "\n",
        "x_train, x_validation, y_train, y_validation = train_test_split(x, y, test_size=0.2,stratify=y, random_state= 525)\n",
        "print(x_train.shape)\n",
        "print(x_validation.shape)"
      ],
      "execution_count": 0,
      "outputs": [
        {
          "output_type": "stream",
          "text": [
            "(1199678, 102)\n",
            "(299920, 102)\n"
          ],
          "name": "stdout"
        }
      ]
    },
    {
      "cell_type": "code",
      "metadata": {
        "id": "3pjtX5yNFDVK",
        "colab_type": "code",
        "outputId": "291a2556-89f5-4160-8d12-0519d607385b",
        "colab": {
          "base_uri": "https://localhost:8080/",
          "height": 50
        }
      },
      "source": [
        "print(y_train.shape)\n",
        "print(y_validation.shape)"
      ],
      "execution_count": 0,
      "outputs": [
        {
          "output_type": "stream",
          "text": [
            "(1199678,)\n",
            "(299920,)\n"
          ],
          "name": "stdout"
        }
      ]
    },
    {
      "cell_type": "code",
      "metadata": {
        "id": "n85WNCXQVf1w",
        "colab_type": "code",
        "outputId": "61e0c1fa-cd7b-478d-caa3-cffec1c0ec39",
        "colab": {
          "base_uri": "https://localhost:8080/",
          "height": 283
        }
      },
      "source": [
        "from keras.utils import to_categorical\n",
        "train_labels = to_categorical(y_train)\n",
        "\n",
        "print(train_labels)\n",
        "\n",
        "print(train_labels.shape)\n",
        "\n",
        "validation_labels = to_categorical(y_validation)\n",
        "print(validation_labels)\n",
        "print(validation_labels.shape)\n"
      ],
      "execution_count": 0,
      "outputs": [
        {
          "output_type": "stream",
          "text": [
            "[[0. 1.]\n",
            " [1. 0.]\n",
            " [0. 1.]\n",
            " ...\n",
            " [0. 1.]\n",
            " [0. 1.]\n",
            " [0. 1.]]\n",
            "(1199678, 2)\n",
            "[[0. 1.]\n",
            " [0. 1.]\n",
            " [0. 1.]\n",
            " ...\n",
            " [0. 1.]\n",
            " [1. 0.]\n",
            " [0. 1.]]\n",
            "(299920, 2)\n"
          ],
          "name": "stdout"
        }
      ]
    },
    {
      "cell_type": "code",
      "metadata": {
        "id": "2022IhT8cjGs",
        "colab_type": "code",
        "outputId": "644250e7-6ffc-4c98-b186-473f3741c953",
        "colab": {
          "base_uri": "https://localhost:8080/",
          "height": 333
        }
      },
      "source": [
        "# this is for checking if label encoding is working or not based on validation data\n",
        "print(y_validation)\n",
        "print(validation_labels)"
      ],
      "execution_count": 0,
      "outputs": [
        {
          "output_type": "stream",
          "text": [
            "1235158    1.0\n",
            "69441      1.0\n",
            "1407311    1.0\n",
            "639113     0.0\n",
            "426498     1.0\n",
            "          ... \n",
            "1096529    0.0\n",
            "682594     0.0\n",
            "381389     1.0\n",
            "1467612    0.0\n",
            "815036     1.0\n",
            "Name: new_acc_sev, Length: 299920, dtype: float64\n",
            "[[0. 1.]\n",
            " [0. 1.]\n",
            " [0. 1.]\n",
            " ...\n",
            " [0. 1.]\n",
            " [1. 0.]\n",
            " [0. 1.]]\n"
          ],
          "name": "stdout"
        }
      ]
    },
    {
      "cell_type": "code",
      "metadata": {
        "id": "4lKesx0Ecljr",
        "colab_type": "code",
        "outputId": "941ff161-964c-450b-b02c-1dd0c2f5109e",
        "colab": {
          "base_uri": "https://localhost:8080/",
          "height": 333
        }
      },
      "source": [
        "# this is for checking if label encoding is working or not based on train data\n",
        "print(y_train)\n",
        "print(train_labels)"
      ],
      "execution_count": 0,
      "outputs": [
        {
          "output_type": "stream",
          "text": [
            "1333716    1.0\n",
            "94941      0.0\n",
            "832704     1.0\n",
            "160049     1.0\n",
            "1355185    1.0\n",
            "          ... \n",
            "848642     1.0\n",
            "429991     1.0\n",
            "1027086    1.0\n",
            "159177     1.0\n",
            "44525      1.0\n",
            "Name: new_acc_sev, Length: 1199678, dtype: float64\n",
            "[[0. 1.]\n",
            " [1. 0.]\n",
            " [0. 1.]\n",
            " ...\n",
            " [0. 1.]\n",
            " [0. 1.]\n",
            " [0. 1.]]\n"
          ],
          "name": "stdout"
        }
      ]
    },
    {
      "cell_type": "code",
      "metadata": {
        "id": "9DxFvwaPe86W",
        "colab_type": "code",
        "outputId": "b4f2e0d8-81cc-47f3-eeb4-7d156b62b935",
        "colab": {
          "base_uri": "https://localhost:8080/",
          "height": 33
        }
      },
      "source": [
        "# this is for checking the frequency of 'severity' i.e., targets in our train and validation data\n",
        "## Here we can see that Dataset is highly Imbalanced almost in proportion of 0:1-1:10\n",
        "np.unique(y_train, return_counts=True)\n"
      ],
      "execution_count": 0,
      "outputs": [
        {
          "output_type": "execute_result",
          "data": {
            "text/plain": [
              "(array([0., 1.]), array([ 178840, 1020838]))"
            ]
          },
          "metadata": {
            "tags": []
          },
          "execution_count": 35
        }
      ]
    },
    {
      "cell_type": "code",
      "metadata": {
        "id": "gZmKFWf3fORq",
        "colab_type": "code",
        "outputId": "24ea7c44-2d87-4735-c976-60fbc9f599da",
        "colab": {
          "base_uri": "https://localhost:8080/",
          "height": 33
        }
      },
      "source": [
        "np.unique(y_validation, return_counts=True)"
      ],
      "execution_count": 0,
      "outputs": [
        {
          "output_type": "execute_result",
          "data": {
            "text/plain": [
              "(array([0., 1.]), array([ 44710, 255210]))"
            ]
          },
          "metadata": {
            "tags": []
          },
          "execution_count": 36
        }
      ]
    },
    {
      "cell_type": "code",
      "metadata": {
        "id": "Mr8Mi1XZAzTG",
        "colab_type": "code",
        "colab": {}
      },
      "source": [
        "Low_Severity = data['new_acc_sev'].value_counts()[0]\n",
        "High_Severity= data['new_acc_sev'].value_counts()[1]"
      ],
      "execution_count": 0,
      "outputs": []
    },
    {
      "cell_type": "code",
      "metadata": {
        "id": "4tfS-myqBcX1",
        "colab_type": "code",
        "outputId": "75472704-efca-439c-b80c-7236e0cf7f24",
        "colab": {
          "base_uri": "https://localhost:8080/",
          "height": 514
        }
      },
      "source": [
        "plt.figure(figsize=(10,8))\n",
        "sns.barplot(x=data['new_acc_sev'].value_counts().index,y=data['new_acc_sev'].value_counts(),color='blue')\n",
        "plt.title('Low_Severity vs High_Severity')\n",
        "plt.ylabel('Count')\n",
        "plt.xlabel('0:Low_Severity, 1:High_Severity');"
      ],
      "execution_count": 0,
      "outputs": [
        {
          "output_type": "display_data",
          "data": {
            "image/png": "[encoded data removed]",
            "text/plain": [
              "<Figure size 720x576 with 1 Axes>"
            ]
          },
          "metadata": {
            "tags": [],
            "needs_background": "light"
          }
        }
      ]
    },
    {
      "cell_type": "code",
      "metadata": {
        "id": "NosfVZJKZEhR",
        "colab_type": "code",
        "outputId": "087060da-b776-4047-8170-2ab0b88c80f5",
        "colab": {
          "base_uri": "https://localhost:8080/",
          "height": 137
        }
      },
      "source": [
        "## Using Random Over_sampling Technique to Balance our dataset\n",
        "from imblearn.over_sampling import RandomOverSampler\n",
        "over=RandomOverSampler(sampling_strategy='minority')\n",
        "x_train_new,y_train_new=over.fit_sample(x_train,y_train)\n"
      ],
      "execution_count": 0,
      "outputs": [
        {
          "output_type": "stream",
          "text": [
            "/usr/local/lib/python3.6/dist-packages/sklearn/externals/six.py:31: FutureWarning: The module is deprecated in version 0.21 and will be removed in version 0.23 since we've dropped support for Python 2.7. Please rely on the official version of six (https://pypi.org/project/six/).\n",
            "  \"(https://pypi.org/project/six/).\", FutureWarning)\n",
            "/usr/local/lib/python3.6/dist-packages/sklearn/utils/deprecation.py:144: FutureWarning: The sklearn.neighbors.base module is  deprecated in version 0.22 and will be removed in version 0.24. The corresponding classes / functions should instead be imported from sklearn.neighbors. Anything that cannot be imported from sklearn.neighbors is now part of the private API.\n",
            "  warnings.warn(message, FutureWarning)\n",
            "/usr/local/lib/python3.6/dist-packages/sklearn/utils/deprecation.py:87: FutureWarning: Function safe_indexing is deprecated; safe_indexing is deprecated in version 0.22 and will be removed in version 0.24.\n",
            "  warnings.warn(msg, category=FutureWarning)\n"
          ],
          "name": "stderr"
        }
      ]
    },
    {
      "cell_type": "code",
      "metadata": {
        "id": "FKq5oo_taFyn",
        "colab_type": "code",
        "outputId": "b7f2e34d-7abb-4457-e957-cdeb8508995b",
        "colab": {
          "base_uri": "https://localhost:8080/",
          "height": 83
        }
      },
      "source": [
        "## Now you can see after using Oversampling technique ratio of 0:1 is 1:1 which improves our predictions\n",
        "print(x_train_new.shape)\n",
        "print(y_train_new.shape)\n",
        "print(x_train.shape)\n",
        "np.unique(y_train_new, return_counts=True)"
      ],
      "execution_count": 0,
      "outputs": [
        {
          "output_type": "stream",
          "text": [
            "(2041676, 102)\n",
            "(2041676,)\n",
            "(1199678, 102)\n"
          ],
          "name": "stdout"
        },
        {
          "output_type": "execute_result",
          "data": {
            "text/plain": [
              "(array([0., 1.]), array([1020838, 1020838]))"
            ]
          },
          "metadata": {
            "tags": []
          },
          "execution_count": 40
        }
      ]
    },
    {
      "cell_type": "code",
      "metadata": {
        "id": "ehCAcGY5akkT",
        "colab_type": "code",
        "colab": {}
      },
      "source": [
        "train_labels_1=to_categorical(y_train_new)"
      ],
      "execution_count": 0,
      "outputs": []
    },
    {
      "cell_type": "markdown",
      "metadata": {
        "id": "1ohVK5JloxPM",
        "colab_type": "text"
      },
      "source": [
        "Basic Dense Neural Network_Model-1 with Dropout"
      ]
    },
    {
      "cell_type": "code",
      "metadata": {
        "id": "owrzggxm1aXF",
        "colab_type": "code",
        "colab": {}
      },
      "source": [
        "Model = Sequential()\n",
        "Model.add(Dense(256,\n",
        "                  activation='relu',\n",
        "                  input_dim=102))\n",
        "Model.add(Dropout(0.3))\n",
        "Model.add(Dense(128, activation='relu'))\n",
        "Model.add(Dropout(0.4))\n",
        "Model.add(Dense(64,activation='relu'))\n",
        "Model.add(Dense(32,activation='relu'))\n",
        "Model.add(Dense(16, activation='relu'))\n",
        "Model.add(Dense(8,activation='relu'))\n",
        "Model.add(Dense(2,activation='softmax'))"
      ],
      "execution_count": 0,
      "outputs": []
    },
    {
      "cell_type": "code",
      "metadata": {
        "id": "DVE52PSGwQib",
        "colab_type": "code",
        "colab": {}
      },
      "source": [
        "from sklearn.metrics import log_loss"
      ],
      "execution_count": 0,
      "outputs": []
    },
    {
      "cell_type": "code",
      "metadata": {
        "id": "BfQysmIu1mJJ",
        "colab_type": "code",
        "colab": {}
      },
      "source": [
        "Model.compile(optimizer='adam', loss='categorical_crossentropy', metrics=['accuracy'])\n",
        "# validation changes made are here"
      ],
      "execution_count": 0,
      "outputs": []
    },
    {
      "cell_type": "code",
      "metadata": {
        "id": "d7caoWIQ1qLu",
        "colab_type": "code",
        "colab": {}
      },
      "source": [
        "es = EarlyStopping(monitor='val_loss', mode='min', \n",
        "                   patience=4, \n",
        "                   verbose=1)"
      ],
      "execution_count": 0,
      "outputs": []
    },
    {
      "cell_type": "code",
      "metadata": {
        "id": "mreO5tQy1vXG",
        "colab_type": "code",
        "outputId": "3adcdc06-0b4e-44bd-a391-18504d7a2b97",
        "colab": {
          "base_uri": "https://localhost:8080/",
          "height": 317
        }
      },
      "source": [
        "history = Model.fit(x_train_new, train_labels_1, \n",
        "                      validation_data=(x_validation, validation_labels),\n",
        "                      epochs=10, batch_size=100, \n",
        "                      verbose=1, class_weight =\"balanced\", callbacks=[es]) "
      ],
      "execution_count": 0,
      "outputs": [
        {
          "output_type": "stream",
          "text": [
            "Train on 2041676 samples, validate on 299920 samples\n",
            "Epoch 1/10\n",
            "2041676/2041676 [==============================] - 133s 65us/step - loss: 0.6468 - accuracy: 0.6269 - val_loss: 0.6401 - val_accuracy: 0.6646\n",
            "Epoch 2/10\n",
            "2041676/2041676 [==============================] - 132s 64us/step - loss: 0.6410 - accuracy: 0.6331 - val_loss: 0.6365 - val_accuracy: 0.6477\n",
            "Epoch 3/10\n",
            "2041676/2041676 [==============================] - 133s 65us/step - loss: 0.6384 - accuracy: 0.6351 - val_loss: 0.6250 - val_accuracy: 0.6705\n",
            "Epoch 4/10\n",
            "2041676/2041676 [==============================] - 131s 64us/step - loss: 0.6367 - accuracy: 0.6362 - val_loss: 0.6206 - val_accuracy: 0.6662\n",
            "Epoch 5/10\n",
            "2041676/2041676 [==============================] - 134s 65us/step - loss: 0.6350 - accuracy: 0.6377 - val_loss: 0.6330 - val_accuracy: 0.6441\n",
            "Epoch 6/10\n",
            "2041676/2041676 [==============================] - 132s 64us/step - loss: 0.6334 - accuracy: 0.6388 - val_loss: 0.6391 - val_accuracy: 0.6572\n",
            "Epoch 7/10\n",
            "2041676/2041676 [==============================] - 133s 65us/step - loss: 0.6323 - accuracy: 0.6397 - val_loss: 0.6312 - val_accuracy: 0.6525\n",
            "Epoch 8/10\n",
            "2041676/2041676 [==============================] - 131s 64us/step - loss: 0.6313 - accuracy: 0.6405 - val_loss: 0.6391 - val_accuracy: 0.6421\n",
            "Epoch 00008: early stopping\n"
          ],
          "name": "stdout"
        }
      ]
    },
    {
      "cell_type": "code",
      "metadata": {
        "id": "DThOKXZG0ujF",
        "colab_type": "code",
        "outputId": "e790b743-cb68-4926-9e05-f2055c1a8ce8",
        "colab": {
          "base_uri": "https://localhost:8080/",
          "height": 295
        }
      },
      "source": [
        "history_dict = history.history\n",
        "Second_loss_values = history_dict['loss']\n",
        "Second_val_loss_values = history_dict['val_loss'] \n",
        "Second_epochs = range(1, len(Second_loss_values) + 1)\n",
        "plt.plot(Second_epochs, Second_loss_values, 'bo', label='Training loss')\n",
        "plt.plot(Second_epochs, Second_val_loss_values, 'orange', label='Validation loss')\n",
        "plt.title('Training and validation loss')\n",
        "plt.xlabel('Epochs')\n",
        "plt.ylabel('Loss')\n",
        "plt.legend()\n",
        "plt.show()"
      ],
      "execution_count": 0,
      "outputs": [
        {
          "output_type": "display_data",
          "data": {
            "image/png": "[encoded data removed]",
            "text/plain": [
              "<Figure size 432x288 with 1 Axes>"
            ]
          },
          "metadata": {
            "tags": [],
            "needs_background": "light"
          }
        }
      ]
    },
    {
      "cell_type": "code",
      "metadata": {
        "id": "u8D5emvaan9C",
        "colab_type": "code",
        "colab": {}
      },
      "source": [
        "from sklearn.metrics import classification_report"
      ],
      "execution_count": 0,
      "outputs": []
    },
    {
      "cell_type": "code",
      "metadata": {
        "id": "jtbZbrFpaswm",
        "colab_type": "code",
        "colab": {}
      },
      "source": [
        "model_1_val_y = Model.predict_classes(x_validation)\n",
        "model_1_train_x = Model.predict_classes(x_train_new)"
      ],
      "execution_count": 0,
      "outputs": []
    },
    {
      "cell_type": "code",
      "metadata": {
        "id": "bT8pdpV2Eoko",
        "colab_type": "code",
        "outputId": "a0cf0b7f-86b1-4fcf-f442-dad685c029cf",
        "colab": {
          "base_uri": "https://localhost:8080/",
          "height": 50
        }
      },
      "source": [
        "from sklearn.metrics import confusion_matrix\n",
        "print(confusion_matrix(y_train_new,model_1_train_x))"
      ],
      "execution_count": 0,
      "outputs": [
        {
          "output_type": "stream",
          "text": [
            "[[659429 361409]\n",
            " [359727 661111]]\n"
          ],
          "name": "stdout"
        }
      ]
    },
    {
      "cell_type": "code",
      "metadata": {
        "id": "Bz8-_uAeatY0",
        "colab_type": "code",
        "outputId": "2ba6e32c-9e0a-41f6-9b97-0e2c981ed496",
        "colab": {
          "base_uri": "https://localhost:8080/",
          "height": 50
        }
      },
      "source": [
        "from sklearn.metrics import confusion_matrix\n",
        "print(confusion_matrix(y_validation, model_1_val_y))"
      ],
      "execution_count": 0,
      "outputs": [
        {
          "output_type": "stream",
          "text": [
            "[[ 27773  16937]\n",
            " [ 90406 164804]]\n"
          ],
          "name": "stdout"
        }
      ]
    },
    {
      "cell_type": "code",
      "metadata": {
        "id": "J6jbl89yavFW",
        "colab_type": "code",
        "outputId": "11fe48af-4aaf-488c-a3e0-33ad5efb0217",
        "colab": {
          "base_uri": "https://localhost:8080/",
          "height": 33
        }
      },
      "source": [
        "from sklearn.metrics import accuracy_score\n",
        "validation_score = accuracy_score(y_validation, model_1_val_y)\n",
        "print(\"Model 1 Test Accuracy Score = \", validation_score)"
      ],
      "execution_count": 0,
      "outputs": [
        {
          "output_type": "stream",
          "text": [
            "Model 1 Test Accuracy Score =  0.6420945585489464\n"
          ],
          "name": "stdout"
        }
      ]
    },
    {
      "cell_type": "code",
      "metadata": {
        "id": "9wqTYbTXay6n",
        "colab_type": "code",
        "outputId": "8ef7ae05-0a45-4983-f140-ca4ec929900a",
        "colab": {
          "base_uri": "https://localhost:8080/",
          "height": 167
        }
      },
      "source": [
        "target_names = ['0','1']\n",
        "print(classification_report(y_validation, model_1_val_y, target_names=target_names))"
      ],
      "execution_count": 0,
      "outputs": [
        {
          "output_type": "stream",
          "text": [
            "              precision    recall  f1-score   support\n",
            "\n",
            "           0       0.24      0.62      0.34     44710\n",
            "           1       0.91      0.65      0.75    255210\n",
            "\n",
            "    accuracy                           0.64    299920\n",
            "   macro avg       0.57      0.63      0.55    299920\n",
            "weighted avg       0.81      0.64      0.69    299920\n",
            "\n"
          ],
          "name": "stdout"
        }
      ]
    },
    {
      "cell_type": "markdown",
      "metadata": {
        "id": "5y_px4PVo2pO",
        "colab_type": "text"
      },
      "source": [
        "Dense Neural Network with improved architecture and Dropout"
      ]
    },
    {
      "cell_type": "code",
      "metadata": {
        "id": "1JZjp5Tc0Idm",
        "colab_type": "code",
        "colab": {}
      },
      "source": [
        "import tensorflow as tf\n",
        "from keras.wrappers.scikit_learn import KerasClassifier\n",
        " \n"
      ],
      "execution_count": 0,
      "outputs": []
    },
    {
      "cell_type": "markdown",
      "metadata": {
        "id": "zp0FekMZ7MuV",
        "colab_type": "text"
      },
      "source": [
        "Model-2 with improved architecture hidden layers-7, with Dropout"
      ]
    },
    {
      "cell_type": "code",
      "metadata": {
        "id": "NS8TWgX4LBeb",
        "colab_type": "code",
        "colab": {}
      },
      "source": [
        "    model_2 = tf.keras.Sequential()\n",
        "    model_2.add(tf.keras.layers.Dense(1024, input_dim=102, activation='relu'))\n",
        "    model_2.add(tf.keras.layers.Dropout(0.3))\n",
        "    model_2.add(tf.keras.layers.Dense(512, activation='relu'))\n",
        "    model_2.add(tf.keras.layers.Dropout(0.2))\n",
        "    model_2.add(tf.keras.layers.Dense(256, activation='relu'))\n",
        "    model_2.add(tf.keras.layers.Dropout(0.3))\n",
        "    model_2.add(tf.keras.layers.Dense(128, activation='relu'))\n",
        "    model_2.add(tf.keras.layers.Dropout(0.2))\n",
        "    model_2.add(tf.keras.layers.Dense(64, activation='relu'))\n",
        "    model_2.add(tf.keras.layers.Dropout(0.3))\n",
        "    model_2.add(tf.keras.layers.Dense(32, activation='relu'))\n",
        "    model_2.add(tf.keras.layers.Dense(16,activation='relu'))\n",
        "    model_2.add(tf.keras.layers.Dropout(0.2))\n",
        "    model_2.add(tf.keras.layers.Dense(8, activation='relu'))\n",
        "    #model.add(tf.keras.layers.Dropout(0.2))\n",
        "    #model.add(tf.keras.layers.SimpleRNN(32))\n",
        "    model_2.add(tf.keras.layers.Dense(2, activation='softmax'))\n"
      ],
      "execution_count": 0,
      "outputs": []
    },
    {
      "cell_type": "code",
      "metadata": {
        "id": "kRjy0bW5fYs3",
        "colab_type": "code",
        "colab": {}
      },
      "source": [
        "from sklearn.metrics import log_loss"
      ],
      "execution_count": 0,
      "outputs": []
    },
    {
      "cell_type": "code",
      "metadata": {
        "id": "ybMfgI3PLkAn",
        "colab_type": "code",
        "colab": {}
      },
      "source": [
        "model_2.compile(optimizer='adam', loss='categorical_crossentropy', metrics=['accuracy'])"
      ],
      "execution_count": 0,
      "outputs": []
    },
    {
      "cell_type": "code",
      "metadata": {
        "id": "kaG9f62DLcef",
        "colab_type": "code",
        "colab": {}
      },
      "source": [
        "es = EarlyStopping(monitor='val_loss', mode='min', \n",
        "                   patience=4, \n",
        "                   verbose=1)"
      ],
      "execution_count": 0,
      "outputs": []
    },
    {
      "cell_type": "code",
      "metadata": {
        "id": "6sPOWnPl0PcH",
        "colab_type": "code",
        "outputId": "9df186b8-5ec7-415b-e198-7f0b8e7a3fe5",
        "colab": {
          "base_uri": "https://localhost:8080/",
          "height": 183
        }
      },
      "source": [
        "history1 = model_2.fit(x_train_new, train_labels_1,\n",
        "                       validatio_data=(x_validation,y_validation),\n",
        "                    epochs=5,\n",
        "                    batch_size=32,\n",
        "                    validation_split=0.2)\n",
        "                   \n",
        "            "
      ],
      "execution_count": 0,
      "outputs": [
        {
          "output_type": "stream",
          "text": [
            "Epoch 1/5\n",
            "51042/51042 [==============================] - 305s 6ms/step - loss: 0.6188 - accuracy: 0.6560 - val_loss: 0.9112 - val_accuracy: 0.1898\n",
            "Epoch 2/5\n",
            "51042/51042 [==============================] - 304s 6ms/step - loss: 0.6198 - accuracy: 0.6537 - val_loss: 0.8436 - val_accuracy: 0.3065\n",
            "Epoch 3/5\n",
            "51042/51042 [==============================] - 305s 6ms/step - loss: 0.6212 - accuracy: 0.6506 - val_loss: 0.7665 - val_accuracy: 0.4761\n",
            "Epoch 4/5\n",
            "51042/51042 [==============================] - 307s 6ms/step - loss: 0.6235 - accuracy: 0.6471 - val_loss: 0.8092 - val_accuracy: 0.5499\n",
            "Epoch 5/5\n",
            "51042/51042 [==============================] - 306s 6ms/step - loss: 0.6234 - accuracy: 0.6477 - val_loss: 0.9422 - val_accuracy: 0.4259\n"
          ],
          "name": "stdout"
        }
      ]
    },
    {
      "cell_type": "code",
      "metadata": {
        "id": "V0cZ_ntkvnsv",
        "colab_type": "code",
        "outputId": "4dda4be0-bb15-4989-88b8-5ce0f2ea11f7",
        "colab": {
          "base_uri": "https://localhost:8080/",
          "height": 295
        }
      },
      "source": [
        "history_dict = history1.history\n",
        "Second_loss_values = history_dict['loss']\n",
        "Second_val_loss_values = history_dict['val_loss'] \n",
        "Second_epochs = range(1, len(Second_loss_values) + 1)\n",
        "plt.plot(Second_epochs, Second_loss_values, 'bo', label='Training loss')\n",
        "plt.plot(Second_epochs, Second_val_loss_values, 'orange', label='Validation loss')\n",
        "plt.title('Training and validation loss')\n",
        "plt.xlabel('Epochs')\n",
        "plt.ylabel('Loss')\n",
        "plt.legend()\n",
        "plt.show()"
      ],
      "execution_count": 0,
      "outputs": [
        {
          "output_type": "display_data",
          "data": {
            "image/png": "[encoded data removed]",
            "text/plain": [
              "<Figure size 432x288 with 1 Axes>"
            ]
          },
          "metadata": {
            "tags": [],
            "needs_background": "light"
          }
        }
      ]
    },
    {
      "cell_type": "code",
      "metadata": {
        "id": "TyEG2A9AhEEJ",
        "colab_type": "code",
        "outputId": "d5c763e5-2f4a-4ee4-b5c2-420a1b625d5b",
        "colab": {
          "base_uri": "https://localhost:8080/",
          "height": 87
        }
      },
      "source": [
        "\n",
        "model_2_val = model_2.predict_classes(x_validation)\n",
        "model_2_train = model_2.predict_classes(x_train_new)"
      ],
      "execution_count": 0,
      "outputs": [
        {
          "output_type": "stream",
          "text": [
            "WARNING:tensorflow:From <ipython-input-61-18604cc23782>:2: Sequential.predict_classes (from tensorflow.python.keras.engine.sequential) is deprecated and will be removed after 2021-01-01.\n",
            "Instructions for updating:\n",
            "Please use instead:* `np.argmax(model.predict(x), axis=-1)`,   if your model does multi-class classification   (e.g. if it uses a `softmax` last-layer activation).* `(model.predict(x) > 0.5).astype(\"int32\")`,   if your model does binary classification   (e.g. if it uses a `sigmoid` last-layer activation).\n"
          ],
          "name": "stdout"
        }
      ]
    },
    {
      "cell_type": "code",
      "metadata": {
        "id": "7HQJW88HhPUW",
        "colab_type": "code",
        "outputId": "d4219d06-4ca8-49d7-de0f-a7b40d3f9eb8",
        "colab": {
          "base_uri": "https://localhost:8080/",
          "height": 50
        }
      },
      "source": [
        "from sklearn.metrics import confusion_matrix\n",
        "print(confusion_matrix(y_train_new,model_2_train))"
      ],
      "execution_count": 0,
      "outputs": [
        {
          "output_type": "stream",
          "text": [
            "[[216648 804190]\n",
            " [ 78688 942150]]\n"
          ],
          "name": "stdout"
        }
      ]
    },
    {
      "cell_type": "code",
      "metadata": {
        "id": "Jf6Hjxq4haJS",
        "colab_type": "code",
        "outputId": "9a7de403-70dd-4517-f0f8-919d716e7f99",
        "colab": {
          "base_uri": "https://localhost:8080/",
          "height": 50
        }
      },
      "source": [
        "from sklearn.metrics import confusion_matrix\n",
        "print(confusion_matrix(y_validation, model_2_val))"
      ],
      "execution_count": 0,
      "outputs": [
        {
          "output_type": "stream",
          "text": [
            "[[  9314  35396]\n",
            " [ 19867 235343]]\n"
          ],
          "name": "stdout"
        }
      ]
    },
    {
      "cell_type": "code",
      "metadata": {
        "id": "vaJkvv9nhfmm",
        "colab_type": "code",
        "outputId": "a0d5e7b1-d48a-437d-accd-3a46028adeab",
        "colab": {
          "base_uri": "https://localhost:8080/",
          "height": 33
        }
      },
      "source": [
        "from sklearn.metrics import accuracy_score\n",
        "validation_score = accuracy_score(y_validation, model_2_val)\n",
        "print(\"Model 2 Test Accuracy Score = \", validation_score)"
      ],
      "execution_count": 0,
      "outputs": [
        {
          "output_type": "stream",
          "text": [
            "Model 2 Test Accuracy Score =  0.8157408642304614\n"
          ],
          "name": "stdout"
        }
      ]
    },
    {
      "cell_type": "code",
      "metadata": {
        "id": "niyf4zv3PJHN",
        "colab_type": "code",
        "outputId": "9e16dff8-08ef-4c74-d092-601100c60c65",
        "colab": {
          "base_uri": "https://localhost:8080/",
          "height": 167
        }
      },
      "source": [
        "target_names = ['0','1']\n",
        "print(classification_report(y_validation, model_2_val, target_names=target_names))"
      ],
      "execution_count": 0,
      "outputs": [
        {
          "output_type": "stream",
          "text": [
            "              precision    recall  f1-score   support\n",
            "\n",
            "           0       0.32      0.21      0.25     44710\n",
            "           1       0.87      0.92      0.89    255210\n",
            "\n",
            "    accuracy                           0.82    299920\n",
            "   macro avg       0.59      0.57      0.57    299920\n",
            "weighted avg       0.79      0.82      0.80    299920\n",
            "\n"
          ],
          "name": "stdout"
        }
      ]
    },
    {
      "cell_type": "markdown",
      "metadata": {
        "id": "YLMQBHeH66s3",
        "colab_type": "text"
      },
      "source": [
        "#### Model_3 with improved architecture ,hidden layers-9, more nodes and without Dropout"
      ]
    },
    {
      "cell_type": "code",
      "metadata": {
        "id": "IvGk_0BpPJYl",
        "colab_type": "code",
        "colab": {}
      },
      "source": [
        "    model_3 = tf.keras.Sequential()in\n",
        "    model_3.add(tf.keras.layers.Dense(4096,input_dim=102,activation='relu'))\n",
        "    model_3.add(tf.keras.layers.Dense(2048, activation='relu'))\n",
        "    model_3.add(tf.keras.layers.Dense(1024, activation='relu'))\n",
        "    model_3.add(tf.keras.layers.Dense(512, activation='relu'))\n",
        "    model_3.add(tf.keras.layers.Dense(256, activation='relu'))\n",
        "    model_3.add(tf.keras.layers.Dense(128, activation='relu'))\n",
        "    model_3.add(tf.keras.layers.Dense(64, activation='relu'))\n",
        "    model_3.add(tf.keras.layers.Dense(32, activation='relu'))\n",
        "    model_3.add(tf.keras.layers.Dense(16, activation='relu'))\n",
        "    model_3.add(tf.keras.layers.Dense(8, activation='relu'))\n",
        "    model_3.add(tf.keras.layers.Dense(2, activation='softmax'))"
      ],
      "execution_count": 0,
      "outputs": []
    },
    {
      "cell_type": "code",
      "metadata": {
        "id": "iSzjeyHI0Zne",
        "colab_type": "code",
        "colab": {}
      },
      "source": [
        "model_3.compile(optimizer='adam', loss='categorical_crossentropy', metrics=['accuracy'])"
      ],
      "execution_count": 0,
      "outputs": []
    },
    {
      "cell_type": "code",
      "metadata": {
        "id": "DLl33Hma0cnw",
        "colab_type": "code",
        "outputId": "dec6868b-cdcd-49ff-e49b-0aa1d425be00",
        "colab": {
          "base_uri": "https://localhost:8080/",
          "height": 183
        }
      },
      "source": [
        "history2= model_3.fit(x_train_new, train_labels_1,\n",
        "                       validatio_data=(x_validation,y_validation),\n",
        "                    epochs=5,\n",
        "                    batch_size=50,\n",
        "                    validation_split=0.2)"
      ],
      "execution_count": 0,
      "outputs": [
        {
          "output_type": "stream",
          "text": [
            "Epoch 1/5\n",
            "32667/32667 [==============================] - 356s 11ms/step - loss: 0.6181 - accuracy: 0.6549 - val_loss: 0.8233 - val_accuracy: 0.4926\n",
            "Epoch 2/5\n",
            "32667/32667 [==============================] - 356s 11ms/step - loss: 0.6119 - accuracy: 0.6615 - val_loss: 0.9983 - val_accuracy: 0.2936\n",
            "Epoch 3/5\n",
            "32667/32667 [==============================] - 355s 11ms/step - loss: 0.6068 - accuracy: 0.6655 - val_loss: 0.8984 - val_accuracy: 0.3814\n",
            "Epoch 4/5\n",
            "32667/32667 [==============================] - 356s 11ms/step - loss: 0.5988 - accuracy: 0.6715 - val_loss: 0.9666 - val_accuracy: 0.3443\n",
            "Epoch 5/5\n",
            "32667/32667 [==============================] - 356s 11ms/step - loss: 0.5843 - accuracy: 0.6830 - val_loss: 0.8253 - val_accuracy: 0.4503\n"
          ],
          "name": "stdout"
        }
      ]
    },
    {
      "cell_type": "code",
      "metadata": {
        "id": "5bShk2H7vqk0",
        "colab_type": "code",
        "outputId": "bf0628e2-54e2-4ae7-c28c-0a75e5f8090d",
        "colab": {
          "base_uri": "https://localhost:8080/",
          "height": 295
        }
      },
      "source": [
        "history_dict = history2.history\n",
        "Second_loss_values = history_dict['loss']\n",
        "Second_val_loss_values = history_dict['val_loss'] \n",
        "Second_epochs = range(1, len(Second_loss_values) + 1)\n",
        "plt.plot(Second_epochs, Second_loss_values, 'bo', label='Training loss')\n",
        "plt.plot(Second_epochs, Second_val_loss_values, 'orange', label='Validation loss')\n",
        "plt.title('Training and validation loss')\n",
        "plt.xlabel('Epochs')\n",
        "plt.ylabel('Loss')\n",
        "plt.legend()\n",
        "plt.show()"
      ],
      "execution_count": 0,
      "outputs": [
        {
          "output_type": "display_data",
          "data": {
            "image/png": "[encoded data removed]",
            "text/plain": [
              "<Figure size 432x288 with 1 Axes>"
            ]
          },
          "metadata": {
            "tags": [],
            "needs_background": "light"
          }
        }
      ]
    },
    {
      "cell_type": "code",
      "metadata": {
        "id": "UwMAdXOJ0nEa",
        "colab_type": "code",
        "colab": {}
      },
      "source": [
        "\n",
        "model_3_val = model_3.predict_classes(x_validation)\n",
        "model_3_train = model_3.predict_classes(x_train_new)"
      ],
      "execution_count": 0,
      "outputs": []
    },
    {
      "cell_type": "code",
      "metadata": {
        "id": "mEFkaSaU0uOU",
        "colab_type": "code",
        "outputId": "4dfaa055-c09d-4609-e692-45aad5660187",
        "colab": {
          "base_uri": "https://localhost:8080/",
          "height": 50
        }
      },
      "source": [
        "from sklearn.metrics import confusion_matrix\n",
        "print(confusion_matrix(y_train_new,model_3_train))"
      ],
      "execution_count": 0,
      "outputs": [
        {
          "output_type": "stream",
          "text": [
            "[[468530 552308]\n",
            " [170162 850676]]\n"
          ],
          "name": "stdout"
        }
      ]
    },
    {
      "cell_type": "code",
      "metadata": {
        "id": "k1Ri00f70wKW",
        "colab_type": "code",
        "outputId": "1dd7ee9f-640e-4a78-bc29-00bce4ff07ac",
        "colab": {
          "base_uri": "https://localhost:8080/",
          "height": 50
        }
      },
      "source": [
        "from sklearn.metrics import confusion_matrix\n",
        "print(confusion_matrix(y_validation, model_3_val))"
      ],
      "execution_count": 0,
      "outputs": [
        {
          "output_type": "stream",
          "text": [
            "[[ 16807  27903]\n",
            " [ 45564 209646]]\n"
          ],
          "name": "stdout"
        }
      ]
    },
    {
      "cell_type": "code",
      "metadata": {
        "id": "VsJv-1Bo07Bs",
        "colab_type": "code",
        "outputId": "07eb811c-9468-4a7d-92d6-26f87ee891ed",
        "colab": {
          "base_uri": "https://localhost:8080/",
          "height": 33
        }
      },
      "source": [
        "from sklearn.metrics import accuracy_score\n",
        "validation_score = accuracy_score(y_validation, model_3_val)\n",
        "print(\"Model 3 Test Accuracy Score = \", validation_score)"
      ],
      "execution_count": 0,
      "outputs": [
        {
          "output_type": "stream",
          "text": [
            "Model 3 Test Accuracy Score =  0.7550446785809549\n"
          ],
          "name": "stdout"
        }
      ]
    },
    {
      "cell_type": "code",
      "metadata": {
        "id": "wQfabKCC1BPV",
        "colab_type": "code",
        "outputId": "e76e6a4f-89e8-4fa9-fd7f-50ae2c8dc89a",
        "colab": {
          "base_uri": "https://localhost:8080/",
          "height": 167
        }
      },
      "source": [
        "target_names = ['0','1']\n",
        "print(classification_report(y_validation, model_3_val, target_names=target_names))"
      ],
      "execution_count": 0,
      "outputs": [
        {
          "output_type": "stream",
          "text": [
            "              precision    recall  f1-score   support\n",
            "\n",
            "           0       0.27      0.38      0.31     44710\n",
            "           1       0.88      0.82      0.85    255210\n",
            "\n",
            "    accuracy                           0.76    299920\n",
            "   macro avg       0.58      0.60      0.58    299920\n",
            "weighted avg       0.79      0.76      0.77    299920\n",
            "\n"
          ],
          "name": "stdout"
        }
      ]
    },
    {
      "cell_type": "markdown",
      "metadata": {
        "id": "TekwQmQA7EEd",
        "colab_type": "text"
      },
      "source": [
        "Model_4 with improved architecture ,hidden layers-9, more nodes and with Dropout"
      ]
    },
    {
      "cell_type": "code",
      "metadata": {
        "id": "hODLD2SbV9-Q",
        "colab_type": "code",
        "colab": {}
      },
      "source": [
        "    model_4 = tf.keras.Sequential()\n",
        "    model_4.add(tf.keras.layers.Dense(4096,input_dim=102,activation='relu'))\n",
        "    model_4.add(tf.keras.layers.Dense(2048, activation='relu'))\n",
        "    model_4.add(tf.keras.layers.Dropout(0.2))\n",
        "    model_4.add(tf.keras.layers.Dense(1024, activation='relu'))\n",
        "    model_4.add(tf.keras.layers.Dropout(0.2))\n",
        "    model_4.add(tf.keras.layers.Dense(512, activation='relu'))\n",
        "    model_4.add(tf.keras.layers.Dropout(0.2))\n",
        "    model_4.add(tf.keras.layers.Dense(256, activation='relu'))\n",
        "    model_4.add(tf.keras.layers.Dropout(0.2))\n",
        "    model_4.add(tf.keras.layers.Dense(128, activation='relu'))\n",
        "    model_4.add(tf.keras.layers.Dropout(0.2))\n",
        "    model_4.add(tf.keras.layers.Dense(64, activation='relu'))\n",
        "    model_4.add(tf.keras.layers.Dropout(0.2))\n",
        "    model_4.add(tf.keras.layers.Dense(32, activation='relu'))\n",
        "    model_4.add(tf.keras.layers.Dropout(0.2))\n",
        "    model_4.add(tf.keras.layers.Dense(16, activation='relu'))\n",
        "    model_4.add(tf.keras.layers.Dropout(0.2))\n",
        "    model_4.add(tf.keras.layers.Dense(8, activation='relu'))\n",
        "    model_4.add(tf.keras.layers.Dense(2, activation='softmax'))"
      ],
      "execution_count": 0,
      "outputs": []
    },
    {
      "cell_type": "code",
      "metadata": {
        "id": "LlQIlKtNWRtm",
        "colab_type": "code",
        "colab": {}
      },
      "source": [
        "model_4.compile(optimizer='adam', loss='categorical_crossentropy', metrics=['accuracy'])"
      ],
      "execution_count": 0,
      "outputs": []
    },
    {
      "cell_type": "code",
      "metadata": {
        "id": "PSDS4CNJWYI4",
        "colab_type": "code",
        "outputId": "b3703427-e9af-47f7-da96-c9a67a931b5e",
        "colab": {
          "base_uri": "https://localhost:8080/",
          "height": 183
        }
      },
      "source": [
        "history3= model_4.fit(x_train_new, train_labels_1,\n",
        "                       validatio_data=(x_validation,y_validation),\n",
        "                    epochs=5,\n",
        "                    batch_size=50,\n",
        "                    validation_split=0.2)"
      ],
      "execution_count": 0,
      "outputs": [
        {
          "output_type": "stream",
          "text": [
            "Epoch 1/5\n",
            "32667/32667 [==============================] - 383s 12ms/step - loss: 0.6233 - accuracy: 0.6486 - val_loss: 0.9353 - val_accuracy: 0.3005\n",
            "Epoch 2/5\n",
            "32667/32667 [==============================] - 384s 12ms/step - loss: 0.6165 - accuracy: 0.6581 - val_loss: 0.9366 - val_accuracy: 0.3790\n",
            "Epoch 3/5\n",
            "32667/32667 [==============================] - 384s 12ms/step - loss: 0.6155 - accuracy: 0.6596 - val_loss: 0.8835 - val_accuracy: 0.4589\n",
            "Epoch 4/5\n",
            "32667/32667 [==============================] - 382s 12ms/step - loss: 0.6166 - accuracy: 0.6576 - val_loss: 0.8470 - val_accuracy: 0.6436\n",
            "Epoch 5/5\n",
            "32667/32667 [==============================] - 383s 12ms/step - loss: 0.6320 - accuracy: 0.6359 - val_loss: 0.8826 - val_accuracy: 0.1204\n"
          ],
          "name": "stdout"
        }
      ]
    },
    {
      "cell_type": "code",
      "metadata": {
        "id": "aci6exwVWcNr",
        "colab_type": "code",
        "colab": {}
      },
      "source": [
        "model_4_val = model_4.predict_classes(x_validation)\n",
        "model_4_train = model_4.predict_classes(x_train_new)"
      ],
      "execution_count": 0,
      "outputs": []
    },
    {
      "cell_type": "code",
      "metadata": {
        "id": "XpkOrb6cWh6A",
        "colab_type": "code",
        "outputId": "e57637c0-77c6-4f8f-bca7-7e1a88dba558",
        "colab": {
          "base_uri": "https://localhost:8080/",
          "height": 50
        }
      },
      "source": [
        "from sklearn.metrics import confusion_matrix\n",
        "print(confusion_matrix(y_train_new,model_4_train))"
      ],
      "execution_count": 0,
      "outputs": [
        {
          "output_type": "stream",
          "text": [
            "[[123055 897783]\n",
            " [ 52581 968257]]\n"
          ],
          "name": "stdout"
        }
      ]
    },
    {
      "cell_type": "code",
      "metadata": {
        "id": "YpmL-lAweGt9",
        "colab_type": "code",
        "outputId": "359478e5-80e0-431c-b985-22aa0ff41526",
        "colab": {
          "base_uri": "https://localhost:8080/",
          "height": 50
        }
      },
      "source": [
        "from sklearn.metrics import confusion_matrix\n",
        "print(confusion_matrix(y_validation, model_4_val))"
      ],
      "execution_count": 0,
      "outputs": [
        {
          "output_type": "stream",
          "text": [
            "[[  5343  39367]\n",
            " [ 13352 241858]]\n"
          ],
          "name": "stdout"
        }
      ]
    },
    {
      "cell_type": "code",
      "metadata": {
        "id": "RGYVnDgqePjK",
        "colab_type": "code",
        "outputId": "dd31eae4-d78a-4c1c-cd8c-7e5ac0a0916d",
        "colab": {
          "base_uri": "https://localhost:8080/",
          "height": 33
        }
      },
      "source": [
        "from sklearn.metrics import accuracy_score\n",
        "validation_score = accuracy_score(y_validation, model_4_val)\n",
        "print(\"Model 4 Test Accuracy Score = \", validation_score)"
      ],
      "execution_count": 0,
      "outputs": [
        {
          "output_type": "stream",
          "text": [
            "Model 4 Test Accuracy Score =  0.8242231261669779\n"
          ],
          "name": "stdout"
        }
      ]
    },
    {
      "cell_type": "code",
      "metadata": {
        "id": "BR9f-CvUeV3G",
        "colab_type": "code",
        "outputId": "00b1c08f-1ee4-4075-aed7-9c212787651c",
        "colab": {
          "base_uri": "https://localhost:8080/",
          "height": 167
        }
      },
      "source": [
        "target_names = ['0','1']\n",
        "print(classification_report(y_validation, model_4_val, target_names=target_names))"
      ],
      "execution_count": 0,
      "outputs": [
        {
          "output_type": "stream",
          "text": [
            "              precision    recall  f1-score   support\n",
            "\n",
            "           0       0.29      0.12      0.17     44710\n",
            "           1       0.86      0.95      0.90    255210\n",
            "\n",
            "    accuracy                           0.82    299920\n",
            "   macro avg       0.57      0.53      0.54    299920\n",
            "weighted avg       0.77      0.82      0.79    299920\n",
            "\n"
          ],
          "name": "stdout"
        }
      ]
    },
    {
      "cell_type": "code",
      "metadata": {
        "id": "XJd4ZOXG6W1x",
        "colab_type": "code",
        "colab": {}
      },
      "source": [
        "## 4 Dense neural network models were developed and we found Model-2 to be better in terms of both f-1 score of 0 and 1 and overall Accuracy"
      ],
      "execution_count": 0,
      "outputs": []
    }
  ]
}